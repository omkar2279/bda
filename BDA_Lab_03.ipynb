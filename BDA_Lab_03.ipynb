{
 "cells": [
  {
   "cell_type": "markdown",
   "metadata": {
    "id": "m9yXqV3LigUA"
   },
   "source": [
    "# 1. Installing PySpark in Google Colab"
   ]
  },
  {
   "cell_type": "code",
   "execution_count": 34,
   "metadata": {
    "colab": {
     "base_uri": "https://localhost:8080/",
     "height": 566
    },
    "id": "hxv7w_2y2bb9",
    "outputId": "cd9a20ba-997c-431f-8da3-79146103e346"
   },
   "outputs": [
    {
     "name": "stdout",
     "output_type": "stream",
     "text": [
      "\u001b[33m\r",
      "0% [Working]\u001b[0m\r",
      "            \r",
      "Hit:1 http://archive.ubuntu.com/ubuntu jammy InRelease\n",
      "\u001b[33m\r",
      "0% [Waiting for headers] [Connecting to security.ubuntu.com (185.125.190.81)] [\u001b[0m\r",
      "                                                                               \r",
      "Hit:2 http://archive.ubuntu.com/ubuntu jammy-updates InRelease\n",
      "\u001b[33m\r",
      "0% [Waiting for headers] [Connecting to security.ubuntu.com (185.125.190.81)] [\u001b[0m\r",
      "                                                                               \r",
      "Hit:3 https://cloud.r-project.org/bin/linux/ubuntu jammy-cran40/ InRelease\n",
      "\u001b[33m\r",
      "0% [Waiting for headers] [Connecting to security.ubuntu.com (185.125.190.81)] [\u001b[0m\r",
      "                                                                               \r",
      "Hit:4 http://archive.ubuntu.com/ubuntu jammy-backports InRelease\n",
      "Hit:5 https://developer.download.nvidia.com/compute/cuda/repos/ubuntu2204/x86_64  InRelease\n",
      "Hit:6 http://security.ubuntu.com/ubuntu jammy-security InRelease\n",
      "Hit:7 https://r2u.stat.illinois.edu/ubuntu jammy InRelease\n",
      "Hit:8 https://ppa.launchpadcontent.net/deadsnakes/ppa/ubuntu jammy InRelease\n",
      "Hit:9 https://ppa.launchpadcontent.net/graphics-drivers/ppa/ubuntu jammy InRelease\n",
      "Hit:10 https://ppa.launchpadcontent.net/ubuntugis/ppa/ubuntu jammy InRelease\n",
      "Reading package lists... Done\n",
      "Building dependency tree... Done\n",
      "Reading state information... Done\n",
      "39 packages can be upgraded. Run 'apt list --upgradable' to see them.\n",
      "\u001b[1;33mW: \u001b[0mSkipping acquire of configured file 'main/source/Sources' as repository 'https://r2u.stat.illinois.edu/ubuntu jammy InRelease' does not seem to provide it (sources.list entry misspelt?)\u001b[0m\n",
      "tar: spark-3.2.1-bin-hadoop3.2.tgz: Cannot open: No such file or directory\n",
      "tar: Error is not recoverable: exiting now\n",
      "Requirement already satisfied: pyspark in /usr/local/lib/python3.11/dist-packages (3.5.5)\n",
      "Requirement already satisfied: py4j==0.10.9.7 in /usr/local/lib/python3.11/dist-packages (from pyspark) (0.10.9.7)\n",
      "Requirement already satisfied: py4j in /usr/local/lib/python3.11/dist-packages (0.10.9.7)\n"
     ]
    },
    {
     "data": {
      "text/html": [
       "\n",
       "            <div>\n",
       "                <p><b>SparkSession - in-memory</b></p>\n",
       "                \n",
       "        <div>\n",
       "            <p><b>SparkContext</b></p>\n",
       "\n",
       "            <p><a href=\"http://be2a56acf55c:4040\">Spark UI</a></p>\n",
       "\n",
       "            <dl>\n",
       "              <dt>Version</dt>\n",
       "                <dd><code>v3.5.5</code></dd>\n",
       "              <dt>Master</dt>\n",
       "                <dd><code>local[*]</code></dd>\n",
       "              <dt>AppName</dt>\n",
       "                <dd><code>Our First Spark Example</code></dd>\n",
       "            </dl>\n",
       "        </div>\n",
       "        \n",
       "            </div>\n",
       "        "
      ],
      "text/plain": [
       "<pyspark.sql.session.SparkSession at 0x791ed5debb90>"
      ]
     },
     "execution_count": 34,
     "metadata": {},
     "output_type": "execute_result"
    }
   ],
   "source": [
    "#Tanmay Borundiya - 20220802277\n",
    "!sudo apt update\n",
    "!apt-get install openjdk-8-jdk-headless -qq > /dev/null\n",
    "#Check this site for the latest download link https://www.apache.org/dyn/closer.lua/spark/spark-3.2.1/spark-3.2.1-bin-hadoop3.2.tgz\n",
    "!wget -q https://dlcdn.apache.org/spark/spark-3.2.1/spark-3.2.1-bin-hadoop3.2.tgz\n",
    "!tar xf spark-3.2.1-bin-hadoop3.2.tgz\n",
    "!pip install -q findspark\n",
    "!pip install pyspark\n",
    "!pip install py4j\n",
    "\n",
    "import os\n",
    "import sys\n",
    "# os.environ[\"JAVA_HOME\"] = \"/usr/lib/jvm/java-8-openjdk-amd64\"\n",
    "# os.environ[\"SPARK_HOME\"] = \"/content/spark-3.2.1-bin-hadoop3.2\"\n",
    "\n",
    "\n",
    "import findspark\n",
    "findspark.init()\n",
    "findspark.find()\n",
    "\n",
    "import pyspark\n",
    "\n",
    "from pyspark.sql import DataFrame, SparkSession\n",
    "from typing import List\n",
    "import pyspark.sql.types as T\n",
    "import pyspark.sql.functions as F\n",
    "\n",
    "spark= SparkSession \\\n",
    "       .builder \\\n",
    "       .appName(\"Our First Spark Example\") \\\n",
    "       .getOrCreate()\n",
    "\n",
    "spark"
   ]
  },
  {
   "cell_type": "code",
   "execution_count": 36,
   "metadata": {
    "id": "hcOCBgQo2Pqf"
   },
   "outputs": [],
   "source": [
    "# Creating a local Spark session\n",
    "import findspark\n",
    "findspark.init()\n",
    "from pyspark.sql import SparkSession\n",
    "spark = SparkSession.builder.master(\"local[*]\").getOrCreate()"
   ]
  },
  {
   "cell_type": "code",
   "execution_count": 37,
   "metadata": {
    "colab": {
     "base_uri": "https://localhost:8080/",
     "height": 516
    },
    "id": "xzvNxiQSixRU",
    "outputId": "c2dc6502-280a-48c4-8c0d-66b44ad796ac"
   },
   "outputs": [
    {
     "data": {
      "application/vnd.google.colaboratory.intrinsic+json": {
       "type": "dataframe",
       "variable_name": "amazon_df"
      },
      "text/html": [
       "\n",
       "  <div id=\"df-78eeddc9-810a-4ffe-a6ea-b1df221aec1e\" class=\"colab-df-container\">\n",
       "    <div>\n",
       "<style scoped>\n",
       "    .dataframe tbody tr th:only-of-type {\n",
       "        vertical-align: middle;\n",
       "    }\n",
       "\n",
       "    .dataframe tbody tr th {\n",
       "        vertical-align: top;\n",
       "    }\n",
       "\n",
       "    .dataframe thead th {\n",
       "        text-align: right;\n",
       "    }\n",
       "</style>\n",
       "<table border=\"1\" class=\"dataframe\">\n",
       "  <thead>\n",
       "    <tr style=\"text-align: right;\">\n",
       "      <th></th>\n",
       "      <th>id_str</th>\n",
       "      <th>tweet_created_at</th>\n",
       "      <th>user_screen_name</th>\n",
       "      <th>user_id_str</th>\n",
       "      <th>user_statuses_count</th>\n",
       "      <th>user_favourites_count</th>\n",
       "      <th>user_protected</th>\n",
       "      <th>user_listed_count</th>\n",
       "      <th>user_following</th>\n",
       "      <th>user_description</th>\n",
       "      <th>...</th>\n",
       "      <th>tweet_language</th>\n",
       "      <th>text_</th>\n",
       "      <th>favorite_count</th>\n",
       "      <th>favorited</th>\n",
       "      <th>in_reply_to_screen_name</th>\n",
       "      <th>in_reply_to_status_id_str</th>\n",
       "      <th>in_reply_to_user_id_str</th>\n",
       "      <th>retweet_count</th>\n",
       "      <th>retweeted</th>\n",
       "      <th>text</th>\n",
       "    </tr>\n",
       "  </thead>\n",
       "  <tbody>\n",
       "    <tr>\n",
       "      <th>0</th>\n",
       "      <td>'793270689780203520'</td>\n",
       "      <td>Tue Nov 01 01:57:25 +0000 2016</td>\n",
       "      <td>SeanEPanjab</td>\n",
       "      <td>143515471.0</td>\n",
       "      <td>51287</td>\n",
       "      <td>4079</td>\n",
       "      <td>False</td>\n",
       "      <td>74</td>\n",
       "      <td>False</td>\n",
       "      <td>Content marketer; Polyglot; Beard aficionado; ...</td>\n",
       "      <td>...</td>\n",
       "      <td>en</td>\n",
       "      <td>@AmazonHelp Can you please DM me? A product I ...</td>\n",
       "      <td>0</td>\n",
       "      <td>False</td>\n",
       "      <td>AmazonHelp</td>\n",
       "      <td>NaN</td>\n",
       "      <td>85741735.0</td>\n",
       "      <td>0</td>\n",
       "      <td>False</td>\n",
       "      <td>NaN</td>\n",
       "    </tr>\n",
       "    <tr>\n",
       "      <th>1</th>\n",
       "      <td>'793281386912354304'</td>\n",
       "      <td>Tue Nov 01 02:39:55 +0000 2016</td>\n",
       "      <td>AmazonHelp</td>\n",
       "      <td>85741735.0</td>\n",
       "      <td>2225450</td>\n",
       "      <td>11366</td>\n",
       "      <td>False</td>\n",
       "      <td>796</td>\n",
       "      <td>False</td>\n",
       "      <td>We answer Amazon support questions 7 days a we...</td>\n",
       "      <td>...</td>\n",
       "      <td>en</td>\n",
       "      <td>@SeanEPanjab I'm sorry, we're unable to DM you...</td>\n",
       "      <td>0</td>\n",
       "      <td>False</td>\n",
       "      <td>SeanEPanjab</td>\n",
       "      <td>7.932707e+17</td>\n",
       "      <td>143515471.0</td>\n",
       "      <td>0</td>\n",
       "      <td>False</td>\n",
       "      <td>NaN</td>\n",
       "    </tr>\n",
       "    <tr>\n",
       "      <th>2</th>\n",
       "      <td>'793501578766319616'</td>\n",
       "      <td>Tue Nov 01 17:14:53 +0000 2016</td>\n",
       "      <td>SeanEPanjab</td>\n",
       "      <td>143515471.0</td>\n",
       "      <td>51287</td>\n",
       "      <td>4079</td>\n",
       "      <td>False</td>\n",
       "      <td>74</td>\n",
       "      <td>False</td>\n",
       "      <td>Content marketer; Polyglot; Beard aficionado; ...</td>\n",
       "      <td>...</td>\n",
       "      <td>en</td>\n",
       "      <td>@AmazonHelp It was purchased on https://t.co/g...</td>\n",
       "      <td>0</td>\n",
       "      <td>False</td>\n",
       "      <td>AmazonHelp</td>\n",
       "      <td>7.932814e+17</td>\n",
       "      <td>85741735.0</td>\n",
       "      <td>0</td>\n",
       "      <td>False</td>\n",
       "      <td>@AmazonHelp It was purchased on https://t.co/g...</td>\n",
       "    </tr>\n",
       "    <tr>\n",
       "      <th>3</th>\n",
       "      <td>'793501657346682880'</td>\n",
       "      <td>Tue Nov 01 17:15:12 +0000 2016</td>\n",
       "      <td>SeanEPanjab</td>\n",
       "      <td>143515471.0</td>\n",
       "      <td>51287</td>\n",
       "      <td>4079</td>\n",
       "      <td>False</td>\n",
       "      <td>74</td>\n",
       "      <td>False</td>\n",
       "      <td>Content marketer; Polyglot; Beard aficionado; ...</td>\n",
       "      <td>...</td>\n",
       "      <td>en</td>\n",
       "      <td>@AmazonHelp I am following you now, if it help...</td>\n",
       "      <td>0</td>\n",
       "      <td>False</td>\n",
       "      <td>AmazonHelp</td>\n",
       "      <td>7.932814e+17</td>\n",
       "      <td>85741735.0</td>\n",
       "      <td>0</td>\n",
       "      <td>False</td>\n",
       "      <td>NaN</td>\n",
       "    </tr>\n",
       "    <tr>\n",
       "      <th>4</th>\n",
       "      <td>'793502854459879424'</td>\n",
       "      <td>Tue Nov 01 17:19:57 +0000 2016</td>\n",
       "      <td>AmazonHelp</td>\n",
       "      <td>85741735.0</td>\n",
       "      <td>2225450</td>\n",
       "      <td>11366</td>\n",
       "      <td>False</td>\n",
       "      <td>796</td>\n",
       "      <td>False</td>\n",
       "      <td>We answer Amazon support questions 7 days a we...</td>\n",
       "      <td>...</td>\n",
       "      <td>en</td>\n",
       "      <td>@SeanEPanjab Please give us a call/chat so we ...</td>\n",
       "      <td>0</td>\n",
       "      <td>False</td>\n",
       "      <td>SeanEPanjab</td>\n",
       "      <td>7.935016e+17</td>\n",
       "      <td>143515471.0</td>\n",
       "      <td>0</td>\n",
       "      <td>False</td>\n",
       "      <td>@SeanEPanjab Please give us a call/chat so we ...</td>\n",
       "    </tr>\n",
       "  </tbody>\n",
       "</table>\n",
       "<p>5 rows × 25 columns</p>\n",
       "</div>\n",
       "    <div class=\"colab-df-buttons\">\n",
       "\n",
       "  <div class=\"colab-df-container\">\n",
       "    <button class=\"colab-df-convert\" onclick=\"convertToInteractive('df-78eeddc9-810a-4ffe-a6ea-b1df221aec1e')\"\n",
       "            title=\"Convert this dataframe to an interactive table.\"\n",
       "            style=\"display:none;\">\n",
       "\n",
       "  <svg xmlns=\"http://www.w3.org/2000/svg\" height=\"24px\" viewBox=\"0 -960 960 960\">\n",
       "    <path d=\"M120-120v-720h720v720H120Zm60-500h600v-160H180v160Zm220 220h160v-160H400v160Zm0 220h160v-160H400v160ZM180-400h160v-160H180v160Zm440 0h160v-160H620v160ZM180-180h160v-160H180v160Zm440 0h160v-160H620v160Z\"/>\n",
       "  </svg>\n",
       "    </button>\n",
       "\n",
       "  <style>\n",
       "    .colab-df-container {\n",
       "      display:flex;\n",
       "      gap: 12px;\n",
       "    }\n",
       "\n",
       "    .colab-df-convert {\n",
       "      background-color: #E8F0FE;\n",
       "      border: none;\n",
       "      border-radius: 50%;\n",
       "      cursor: pointer;\n",
       "      display: none;\n",
       "      fill: #1967D2;\n",
       "      height: 32px;\n",
       "      padding: 0 0 0 0;\n",
       "      width: 32px;\n",
       "    }\n",
       "\n",
       "    .colab-df-convert:hover {\n",
       "      background-color: #E2EBFA;\n",
       "      box-shadow: 0px 1px 2px rgba(60, 64, 67, 0.3), 0px 1px 3px 1px rgba(60, 64, 67, 0.15);\n",
       "      fill: #174EA6;\n",
       "    }\n",
       "\n",
       "    .colab-df-buttons div {\n",
       "      margin-bottom: 4px;\n",
       "    }\n",
       "\n",
       "    [theme=dark] .colab-df-convert {\n",
       "      background-color: #3B4455;\n",
       "      fill: #D2E3FC;\n",
       "    }\n",
       "\n",
       "    [theme=dark] .colab-df-convert:hover {\n",
       "      background-color: #434B5C;\n",
       "      box-shadow: 0px 1px 3px 1px rgba(0, 0, 0, 0.15);\n",
       "      filter: drop-shadow(0px 1px 2px rgba(0, 0, 0, 0.3));\n",
       "      fill: #FFFFFF;\n",
       "    }\n",
       "  </style>\n",
       "\n",
       "    <script>\n",
       "      const buttonEl =\n",
       "        document.querySelector('#df-78eeddc9-810a-4ffe-a6ea-b1df221aec1e button.colab-df-convert');\n",
       "      buttonEl.style.display =\n",
       "        google.colab.kernel.accessAllowed ? 'block' : 'none';\n",
       "\n",
       "      async function convertToInteractive(key) {\n",
       "        const element = document.querySelector('#df-78eeddc9-810a-4ffe-a6ea-b1df221aec1e');\n",
       "        const dataTable =\n",
       "          await google.colab.kernel.invokeFunction('convertToInteractive',\n",
       "                                                    [key], {});\n",
       "        if (!dataTable) return;\n",
       "\n",
       "        const docLinkHtml = 'Like what you see? Visit the ' +\n",
       "          '<a target=\"_blank\" href=https://colab.research.google.com/notebooks/data_table.ipynb>data table notebook</a>'\n",
       "          + ' to learn more about interactive tables.';\n",
       "        element.innerHTML = '';\n",
       "        dataTable['output_type'] = 'display_data';\n",
       "        await google.colab.output.renderOutput(dataTable, element);\n",
       "        const docLink = document.createElement('div');\n",
       "        docLink.innerHTML = docLinkHtml;\n",
       "        element.appendChild(docLink);\n",
       "      }\n",
       "    </script>\n",
       "  </div>\n",
       "\n",
       "\n",
       "    <div id=\"df-00f37132-2959-4871-ab88-696b380d2014\">\n",
       "      <button class=\"colab-df-quickchart\" onclick=\"quickchart('df-00f37132-2959-4871-ab88-696b380d2014')\"\n",
       "                title=\"Suggest charts\"\n",
       "                style=\"display:none;\">\n",
       "\n",
       "<svg xmlns=\"http://www.w3.org/2000/svg\" height=\"24px\"viewBox=\"0 0 24 24\"\n",
       "     width=\"24px\">\n",
       "    <g>\n",
       "        <path d=\"M19 3H5c-1.1 0-2 .9-2 2v14c0 1.1.9 2 2 2h14c1.1 0 2-.9 2-2V5c0-1.1-.9-2-2-2zM9 17H7v-7h2v7zm4 0h-2V7h2v10zm4 0h-2v-4h2v4z\"/>\n",
       "    </g>\n",
       "</svg>\n",
       "      </button>\n",
       "\n",
       "<style>\n",
       "  .colab-df-quickchart {\n",
       "      --bg-color: #E8F0FE;\n",
       "      --fill-color: #1967D2;\n",
       "      --hover-bg-color: #E2EBFA;\n",
       "      --hover-fill-color: #174EA6;\n",
       "      --disabled-fill-color: #AAA;\n",
       "      --disabled-bg-color: #DDD;\n",
       "  }\n",
       "\n",
       "  [theme=dark] .colab-df-quickchart {\n",
       "      --bg-color: #3B4455;\n",
       "      --fill-color: #D2E3FC;\n",
       "      --hover-bg-color: #434B5C;\n",
       "      --hover-fill-color: #FFFFFF;\n",
       "      --disabled-bg-color: #3B4455;\n",
       "      --disabled-fill-color: #666;\n",
       "  }\n",
       "\n",
       "  .colab-df-quickchart {\n",
       "    background-color: var(--bg-color);\n",
       "    border: none;\n",
       "    border-radius: 50%;\n",
       "    cursor: pointer;\n",
       "    display: none;\n",
       "    fill: var(--fill-color);\n",
       "    height: 32px;\n",
       "    padding: 0;\n",
       "    width: 32px;\n",
       "  }\n",
       "\n",
       "  .colab-df-quickchart:hover {\n",
       "    background-color: var(--hover-bg-color);\n",
       "    box-shadow: 0 1px 2px rgba(60, 64, 67, 0.3), 0 1px 3px 1px rgba(60, 64, 67, 0.15);\n",
       "    fill: var(--button-hover-fill-color);\n",
       "  }\n",
       "\n",
       "  .colab-df-quickchart-complete:disabled,\n",
       "  .colab-df-quickchart-complete:disabled:hover {\n",
       "    background-color: var(--disabled-bg-color);\n",
       "    fill: var(--disabled-fill-color);\n",
       "    box-shadow: none;\n",
       "  }\n",
       "\n",
       "  .colab-df-spinner {\n",
       "    border: 2px solid var(--fill-color);\n",
       "    border-color: transparent;\n",
       "    border-bottom-color: var(--fill-color);\n",
       "    animation:\n",
       "      spin 1s steps(1) infinite;\n",
       "  }\n",
       "\n",
       "  @keyframes spin {\n",
       "    0% {\n",
       "      border-color: transparent;\n",
       "      border-bottom-color: var(--fill-color);\n",
       "      border-left-color: var(--fill-color);\n",
       "    }\n",
       "    20% {\n",
       "      border-color: transparent;\n",
       "      border-left-color: var(--fill-color);\n",
       "      border-top-color: var(--fill-color);\n",
       "    }\n",
       "    30% {\n",
       "      border-color: transparent;\n",
       "      border-left-color: var(--fill-color);\n",
       "      border-top-color: var(--fill-color);\n",
       "      border-right-color: var(--fill-color);\n",
       "    }\n",
       "    40% {\n",
       "      border-color: transparent;\n",
       "      border-right-color: var(--fill-color);\n",
       "      border-top-color: var(--fill-color);\n",
       "    }\n",
       "    60% {\n",
       "      border-color: transparent;\n",
       "      border-right-color: var(--fill-color);\n",
       "    }\n",
       "    80% {\n",
       "      border-color: transparent;\n",
       "      border-right-color: var(--fill-color);\n",
       "      border-bottom-color: var(--fill-color);\n",
       "    }\n",
       "    90% {\n",
       "      border-color: transparent;\n",
       "      border-bottom-color: var(--fill-color);\n",
       "    }\n",
       "  }\n",
       "</style>\n",
       "\n",
       "      <script>\n",
       "        async function quickchart(key) {\n",
       "          const quickchartButtonEl =\n",
       "            document.querySelector('#' + key + ' button');\n",
       "          quickchartButtonEl.disabled = true;  // To prevent multiple clicks.\n",
       "          quickchartButtonEl.classList.add('colab-df-spinner');\n",
       "          try {\n",
       "            const charts = await google.colab.kernel.invokeFunction(\n",
       "                'suggestCharts', [key], {});\n",
       "          } catch (error) {\n",
       "            console.error('Error during call to suggestCharts:', error);\n",
       "          }\n",
       "          quickchartButtonEl.classList.remove('colab-df-spinner');\n",
       "          quickchartButtonEl.classList.add('colab-df-quickchart-complete');\n",
       "        }\n",
       "        (() => {\n",
       "          let quickchartButtonEl =\n",
       "            document.querySelector('#df-00f37132-2959-4871-ab88-696b380d2014 button');\n",
       "          quickchartButtonEl.style.display =\n",
       "            google.colab.kernel.accessAllowed ? 'block' : 'none';\n",
       "        })();\n",
       "      </script>\n",
       "    </div>\n",
       "\n",
       "    </div>\n",
       "  </div>\n"
      ],
      "text/plain": [
       "                 id_str                tweet_created_at user_screen_name  \\\n",
       "0  '793270689780203520'  Tue Nov 01 01:57:25 +0000 2016      SeanEPanjab   \n",
       "1  '793281386912354304'  Tue Nov 01 02:39:55 +0000 2016       AmazonHelp   \n",
       "2  '793501578766319616'  Tue Nov 01 17:14:53 +0000 2016      SeanEPanjab   \n",
       "3  '793501657346682880'  Tue Nov 01 17:15:12 +0000 2016      SeanEPanjab   \n",
       "4  '793502854459879424'  Tue Nov 01 17:19:57 +0000 2016       AmazonHelp   \n",
       "\n",
       "   user_id_str  user_statuses_count  user_favourites_count  user_protected  \\\n",
       "0  143515471.0                51287                   4079           False   \n",
       "1   85741735.0              2225450                  11366           False   \n",
       "2  143515471.0                51287                   4079           False   \n",
       "3  143515471.0                51287                   4079           False   \n",
       "4   85741735.0              2225450                  11366           False   \n",
       "\n",
       "   user_listed_count  user_following  \\\n",
       "0                 74           False   \n",
       "1                796           False   \n",
       "2                 74           False   \n",
       "3                 74           False   \n",
       "4                796           False   \n",
       "\n",
       "                                    user_description  ... tweet_language  \\\n",
       "0  Content marketer; Polyglot; Beard aficionado; ...  ...             en   \n",
       "1  We answer Amazon support questions 7 days a we...  ...             en   \n",
       "2  Content marketer; Polyglot; Beard aficionado; ...  ...             en   \n",
       "3  Content marketer; Polyglot; Beard aficionado; ...  ...             en   \n",
       "4  We answer Amazon support questions 7 days a we...  ...             en   \n",
       "\n",
       "                                               text_  favorite_count  \\\n",
       "0  @AmazonHelp Can you please DM me? A product I ...               0   \n",
       "1  @SeanEPanjab I'm sorry, we're unable to DM you...               0   \n",
       "2  @AmazonHelp It was purchased on https://t.co/g...               0   \n",
       "3  @AmazonHelp I am following you now, if it help...               0   \n",
       "4  @SeanEPanjab Please give us a call/chat so we ...               0   \n",
       "\n",
       "   favorited in_reply_to_screen_name in_reply_to_status_id_str  \\\n",
       "0      False              AmazonHelp                       NaN   \n",
       "1      False             SeanEPanjab              7.932707e+17   \n",
       "2      False              AmazonHelp              7.932814e+17   \n",
       "3      False              AmazonHelp              7.932814e+17   \n",
       "4      False             SeanEPanjab              7.935016e+17   \n",
       "\n",
       "  in_reply_to_user_id_str  retweet_count  retweeted  \\\n",
       "0              85741735.0              0      False   \n",
       "1             143515471.0              0      False   \n",
       "2              85741735.0              0      False   \n",
       "3              85741735.0              0      False   \n",
       "4             143515471.0              0      False   \n",
       "\n",
       "                                                text  \n",
       "0                                                NaN  \n",
       "1                                                NaN  \n",
       "2  @AmazonHelp It was purchased on https://t.co/g...  \n",
       "3                                                NaN  \n",
       "4  @SeanEPanjab Please give us a call/chat so we ...  \n",
       "\n",
       "[5 rows x 25 columns]"
      ]
     },
     "execution_count": 37,
     "metadata": {},
     "output_type": "execute_result"
    }
   ],
   "source": [
    "# Loading data in pandas dataframe\n",
    "import pandas as pd\n",
    "amazon_df = pd.read_csv(\"/content/drive/MyDrive/Colab_Notebooks/BDA/Amazon_Responded_Oct05.csv\", on_bad_lines='skip')\n",
    "amazon_df.head()"
   ]
  },
  {
   "cell_type": "code",
   "execution_count": 38,
   "metadata": {
    "colab": {
     "base_uri": "https://localhost:8080/"
    },
    "id": "fwEakVNPylid",
    "outputId": "93418071-a2f1-4bec-d04a-2d1d108cd280"
   },
   "outputs": [
    {
     "data": {
      "text/plain": [
       "(378132, 25)"
      ]
     },
     "execution_count": 38,
     "metadata": {},
     "output_type": "execute_result"
    }
   ],
   "source": [
    "amazon_df.shape"
   ]
  },
  {
   "cell_type": "code",
   "execution_count": 39,
   "metadata": {
    "colab": {
     "base_uri": "https://localhost:8080/"
    },
    "id": "kRPfn4SryprU",
    "outputId": "0446c193-ae56-4e23-e8fa-09f576c03da0"
   },
   "outputs": [
    {
     "data": {
      "text/plain": [
       "(378132, 25)"
      ]
     },
     "execution_count": 39,
     "metadata": {},
     "output_type": "execute_result"
    }
   ],
   "source": [
    "# Dropping all null rows\n",
    "amazon_df.dropna(how=\"all\", inplace=True)\n",
    "amazon_df.shape"
   ]
  },
  {
   "cell_type": "code",
   "execution_count": 40,
   "metadata": {
    "colab": {
     "base_uri": "https://localhost:8080/",
     "height": 516
    },
    "id": "Cl-zjFByytF4",
    "outputId": "f24c05b2-92e3-4a92-b2a5-36c06cb83e6f"
   },
   "outputs": [
    {
     "data": {
      "application/vnd.google.colaboratory.intrinsic+json": {
       "type": "dataframe",
       "variable_name": "amazon_df"
      },
      "text/html": [
       "\n",
       "  <div id=\"df-9b86f243-b11c-4154-b8ec-d6c3953d880f\" class=\"colab-df-container\">\n",
       "    <div>\n",
       "<style scoped>\n",
       "    .dataframe tbody tr th:only-of-type {\n",
       "        vertical-align: middle;\n",
       "    }\n",
       "\n",
       "    .dataframe tbody tr th {\n",
       "        vertical-align: top;\n",
       "    }\n",
       "\n",
       "    .dataframe thead th {\n",
       "        text-align: right;\n",
       "    }\n",
       "</style>\n",
       "<table border=\"1\" class=\"dataframe\">\n",
       "  <thead>\n",
       "    <tr style=\"text-align: right;\">\n",
       "      <th></th>\n",
       "      <th>id_str</th>\n",
       "      <th>tweet_created_at</th>\n",
       "      <th>user_screen_name</th>\n",
       "      <th>user_id_str</th>\n",
       "      <th>user_statuses_count</th>\n",
       "      <th>user_favourites_count</th>\n",
       "      <th>user_protected</th>\n",
       "      <th>user_listed_count</th>\n",
       "      <th>user_following</th>\n",
       "      <th>user_description</th>\n",
       "      <th>...</th>\n",
       "      <th>tweet_language</th>\n",
       "      <th>text_</th>\n",
       "      <th>favorite_count</th>\n",
       "      <th>favorited</th>\n",
       "      <th>in_reply_to_screen_name</th>\n",
       "      <th>in_reply_to_status_id_str</th>\n",
       "      <th>in_reply_to_user_id_str</th>\n",
       "      <th>retweet_count</th>\n",
       "      <th>retweeted</th>\n",
       "      <th>text</th>\n",
       "    </tr>\n",
       "  </thead>\n",
       "  <tbody>\n",
       "    <tr>\n",
       "      <th>0</th>\n",
       "      <td>'793270689780203520'</td>\n",
       "      <td>Tue Nov 01 01:57:25 +0000 2016</td>\n",
       "      <td>SeanEPanjab</td>\n",
       "      <td>143515471.0</td>\n",
       "      <td>51287</td>\n",
       "      <td>4079</td>\n",
       "      <td>False</td>\n",
       "      <td>74</td>\n",
       "      <td>False</td>\n",
       "      <td>Content marketer; Polyglot; Beard aficionado; ...</td>\n",
       "      <td>...</td>\n",
       "      <td>en</td>\n",
       "      <td>@AmazonHelp Can you please DM me? A product I ...</td>\n",
       "      <td>0</td>\n",
       "      <td>False</td>\n",
       "      <td>AmazonHelp</td>\n",
       "      <td>NaN</td>\n",
       "      <td>85741735.0</td>\n",
       "      <td>0</td>\n",
       "      <td>False</td>\n",
       "      <td>NaN</td>\n",
       "    </tr>\n",
       "    <tr>\n",
       "      <th>1</th>\n",
       "      <td>'793281386912354304'</td>\n",
       "      <td>Tue Nov 01 02:39:55 +0000 2016</td>\n",
       "      <td>AmazonHelp</td>\n",
       "      <td>85741735.0</td>\n",
       "      <td>2225450</td>\n",
       "      <td>11366</td>\n",
       "      <td>False</td>\n",
       "      <td>796</td>\n",
       "      <td>False</td>\n",
       "      <td>We answer Amazon support questions 7 days a we...</td>\n",
       "      <td>...</td>\n",
       "      <td>en</td>\n",
       "      <td>@SeanEPanjab I'm sorry, we're unable to DM you...</td>\n",
       "      <td>0</td>\n",
       "      <td>False</td>\n",
       "      <td>SeanEPanjab</td>\n",
       "      <td>7.932707e+17</td>\n",
       "      <td>143515471.0</td>\n",
       "      <td>0</td>\n",
       "      <td>False</td>\n",
       "      <td>NaN</td>\n",
       "    </tr>\n",
       "    <tr>\n",
       "      <th>2</th>\n",
       "      <td>'793501578766319616'</td>\n",
       "      <td>Tue Nov 01 17:14:53 +0000 2016</td>\n",
       "      <td>SeanEPanjab</td>\n",
       "      <td>143515471.0</td>\n",
       "      <td>51287</td>\n",
       "      <td>4079</td>\n",
       "      <td>False</td>\n",
       "      <td>74</td>\n",
       "      <td>False</td>\n",
       "      <td>Content marketer; Polyglot; Beard aficionado; ...</td>\n",
       "      <td>...</td>\n",
       "      <td>en</td>\n",
       "      <td>@AmazonHelp It was purchased on https://t.co/g...</td>\n",
       "      <td>0</td>\n",
       "      <td>False</td>\n",
       "      <td>AmazonHelp</td>\n",
       "      <td>7.932814e+17</td>\n",
       "      <td>85741735.0</td>\n",
       "      <td>0</td>\n",
       "      <td>False</td>\n",
       "      <td>@AmazonHelp It was purchased on https://t.co/g...</td>\n",
       "    </tr>\n",
       "    <tr>\n",
       "      <th>3</th>\n",
       "      <td>'793501657346682880'</td>\n",
       "      <td>Tue Nov 01 17:15:12 +0000 2016</td>\n",
       "      <td>SeanEPanjab</td>\n",
       "      <td>143515471.0</td>\n",
       "      <td>51287</td>\n",
       "      <td>4079</td>\n",
       "      <td>False</td>\n",
       "      <td>74</td>\n",
       "      <td>False</td>\n",
       "      <td>Content marketer; Polyglot; Beard aficionado; ...</td>\n",
       "      <td>...</td>\n",
       "      <td>en</td>\n",
       "      <td>@AmazonHelp I am following you now, if it help...</td>\n",
       "      <td>0</td>\n",
       "      <td>False</td>\n",
       "      <td>AmazonHelp</td>\n",
       "      <td>7.932814e+17</td>\n",
       "      <td>85741735.0</td>\n",
       "      <td>0</td>\n",
       "      <td>False</td>\n",
       "      <td>NaN</td>\n",
       "    </tr>\n",
       "    <tr>\n",
       "      <th>4</th>\n",
       "      <td>'793502854459879424'</td>\n",
       "      <td>Tue Nov 01 17:19:57 +0000 2016</td>\n",
       "      <td>AmazonHelp</td>\n",
       "      <td>85741735.0</td>\n",
       "      <td>2225450</td>\n",
       "      <td>11366</td>\n",
       "      <td>False</td>\n",
       "      <td>796</td>\n",
       "      <td>False</td>\n",
       "      <td>We answer Amazon support questions 7 days a we...</td>\n",
       "      <td>...</td>\n",
       "      <td>en</td>\n",
       "      <td>@SeanEPanjab Please give us a call/chat so we ...</td>\n",
       "      <td>0</td>\n",
       "      <td>False</td>\n",
       "      <td>SeanEPanjab</td>\n",
       "      <td>7.935016e+17</td>\n",
       "      <td>143515471.0</td>\n",
       "      <td>0</td>\n",
       "      <td>False</td>\n",
       "      <td>@SeanEPanjab Please give us a call/chat so we ...</td>\n",
       "    </tr>\n",
       "  </tbody>\n",
       "</table>\n",
       "<p>5 rows × 25 columns</p>\n",
       "</div>\n",
       "    <div class=\"colab-df-buttons\">\n",
       "\n",
       "  <div class=\"colab-df-container\">\n",
       "    <button class=\"colab-df-convert\" onclick=\"convertToInteractive('df-9b86f243-b11c-4154-b8ec-d6c3953d880f')\"\n",
       "            title=\"Convert this dataframe to an interactive table.\"\n",
       "            style=\"display:none;\">\n",
       "\n",
       "  <svg xmlns=\"http://www.w3.org/2000/svg\" height=\"24px\" viewBox=\"0 -960 960 960\">\n",
       "    <path d=\"M120-120v-720h720v720H120Zm60-500h600v-160H180v160Zm220 220h160v-160H400v160Zm0 220h160v-160H400v160ZM180-400h160v-160H180v160Zm440 0h160v-160H620v160ZM180-180h160v-160H180v160Zm440 0h160v-160H620v160Z\"/>\n",
       "  </svg>\n",
       "    </button>\n",
       "\n",
       "  <style>\n",
       "    .colab-df-container {\n",
       "      display:flex;\n",
       "      gap: 12px;\n",
       "    }\n",
       "\n",
       "    .colab-df-convert {\n",
       "      background-color: #E8F0FE;\n",
       "      border: none;\n",
       "      border-radius: 50%;\n",
       "      cursor: pointer;\n",
       "      display: none;\n",
       "      fill: #1967D2;\n",
       "      height: 32px;\n",
       "      padding: 0 0 0 0;\n",
       "      width: 32px;\n",
       "    }\n",
       "\n",
       "    .colab-df-convert:hover {\n",
       "      background-color: #E2EBFA;\n",
       "      box-shadow: 0px 1px 2px rgba(60, 64, 67, 0.3), 0px 1px 3px 1px rgba(60, 64, 67, 0.15);\n",
       "      fill: #174EA6;\n",
       "    }\n",
       "\n",
       "    .colab-df-buttons div {\n",
       "      margin-bottom: 4px;\n",
       "    }\n",
       "\n",
       "    [theme=dark] .colab-df-convert {\n",
       "      background-color: #3B4455;\n",
       "      fill: #D2E3FC;\n",
       "    }\n",
       "\n",
       "    [theme=dark] .colab-df-convert:hover {\n",
       "      background-color: #434B5C;\n",
       "      box-shadow: 0px 1px 3px 1px rgba(0, 0, 0, 0.15);\n",
       "      filter: drop-shadow(0px 1px 2px rgba(0, 0, 0, 0.3));\n",
       "      fill: #FFFFFF;\n",
       "    }\n",
       "  </style>\n",
       "\n",
       "    <script>\n",
       "      const buttonEl =\n",
       "        document.querySelector('#df-9b86f243-b11c-4154-b8ec-d6c3953d880f button.colab-df-convert');\n",
       "      buttonEl.style.display =\n",
       "        google.colab.kernel.accessAllowed ? 'block' : 'none';\n",
       "\n",
       "      async function convertToInteractive(key) {\n",
       "        const element = document.querySelector('#df-9b86f243-b11c-4154-b8ec-d6c3953d880f');\n",
       "        const dataTable =\n",
       "          await google.colab.kernel.invokeFunction('convertToInteractive',\n",
       "                                                    [key], {});\n",
       "        if (!dataTable) return;\n",
       "\n",
       "        const docLinkHtml = 'Like what you see? Visit the ' +\n",
       "          '<a target=\"_blank\" href=https://colab.research.google.com/notebooks/data_table.ipynb>data table notebook</a>'\n",
       "          + ' to learn more about interactive tables.';\n",
       "        element.innerHTML = '';\n",
       "        dataTable['output_type'] = 'display_data';\n",
       "        await google.colab.output.renderOutput(dataTable, element);\n",
       "        const docLink = document.createElement('div');\n",
       "        docLink.innerHTML = docLinkHtml;\n",
       "        element.appendChild(docLink);\n",
       "      }\n",
       "    </script>\n",
       "  </div>\n",
       "\n",
       "\n",
       "    <div id=\"df-ec51bf96-c059-43e9-99f5-494995703f9d\">\n",
       "      <button class=\"colab-df-quickchart\" onclick=\"quickchart('df-ec51bf96-c059-43e9-99f5-494995703f9d')\"\n",
       "                title=\"Suggest charts\"\n",
       "                style=\"display:none;\">\n",
       "\n",
       "<svg xmlns=\"http://www.w3.org/2000/svg\" height=\"24px\"viewBox=\"0 0 24 24\"\n",
       "     width=\"24px\">\n",
       "    <g>\n",
       "        <path d=\"M19 3H5c-1.1 0-2 .9-2 2v14c0 1.1.9 2 2 2h14c1.1 0 2-.9 2-2V5c0-1.1-.9-2-2-2zM9 17H7v-7h2v7zm4 0h-2V7h2v10zm4 0h-2v-4h2v4z\"/>\n",
       "    </g>\n",
       "</svg>\n",
       "      </button>\n",
       "\n",
       "<style>\n",
       "  .colab-df-quickchart {\n",
       "      --bg-color: #E8F0FE;\n",
       "      --fill-color: #1967D2;\n",
       "      --hover-bg-color: #E2EBFA;\n",
       "      --hover-fill-color: #174EA6;\n",
       "      --disabled-fill-color: #AAA;\n",
       "      --disabled-bg-color: #DDD;\n",
       "  }\n",
       "\n",
       "  [theme=dark] .colab-df-quickchart {\n",
       "      --bg-color: #3B4455;\n",
       "      --fill-color: #D2E3FC;\n",
       "      --hover-bg-color: #434B5C;\n",
       "      --hover-fill-color: #FFFFFF;\n",
       "      --disabled-bg-color: #3B4455;\n",
       "      --disabled-fill-color: #666;\n",
       "  }\n",
       "\n",
       "  .colab-df-quickchart {\n",
       "    background-color: var(--bg-color);\n",
       "    border: none;\n",
       "    border-radius: 50%;\n",
       "    cursor: pointer;\n",
       "    display: none;\n",
       "    fill: var(--fill-color);\n",
       "    height: 32px;\n",
       "    padding: 0;\n",
       "    width: 32px;\n",
       "  }\n",
       "\n",
       "  .colab-df-quickchart:hover {\n",
       "    background-color: var(--hover-bg-color);\n",
       "    box-shadow: 0 1px 2px rgba(60, 64, 67, 0.3), 0 1px 3px 1px rgba(60, 64, 67, 0.15);\n",
       "    fill: var(--button-hover-fill-color);\n",
       "  }\n",
       "\n",
       "  .colab-df-quickchart-complete:disabled,\n",
       "  .colab-df-quickchart-complete:disabled:hover {\n",
       "    background-color: var(--disabled-bg-color);\n",
       "    fill: var(--disabled-fill-color);\n",
       "    box-shadow: none;\n",
       "  }\n",
       "\n",
       "  .colab-df-spinner {\n",
       "    border: 2px solid var(--fill-color);\n",
       "    border-color: transparent;\n",
       "    border-bottom-color: var(--fill-color);\n",
       "    animation:\n",
       "      spin 1s steps(1) infinite;\n",
       "  }\n",
       "\n",
       "  @keyframes spin {\n",
       "    0% {\n",
       "      border-color: transparent;\n",
       "      border-bottom-color: var(--fill-color);\n",
       "      border-left-color: var(--fill-color);\n",
       "    }\n",
       "    20% {\n",
       "      border-color: transparent;\n",
       "      border-left-color: var(--fill-color);\n",
       "      border-top-color: var(--fill-color);\n",
       "    }\n",
       "    30% {\n",
       "      border-color: transparent;\n",
       "      border-left-color: var(--fill-color);\n",
       "      border-top-color: var(--fill-color);\n",
       "      border-right-color: var(--fill-color);\n",
       "    }\n",
       "    40% {\n",
       "      border-color: transparent;\n",
       "      border-right-color: var(--fill-color);\n",
       "      border-top-color: var(--fill-color);\n",
       "    }\n",
       "    60% {\n",
       "      border-color: transparent;\n",
       "      border-right-color: var(--fill-color);\n",
       "    }\n",
       "    80% {\n",
       "      border-color: transparent;\n",
       "      border-right-color: var(--fill-color);\n",
       "      border-bottom-color: var(--fill-color);\n",
       "    }\n",
       "    90% {\n",
       "      border-color: transparent;\n",
       "      border-bottom-color: var(--fill-color);\n",
       "    }\n",
       "  }\n",
       "</style>\n",
       "\n",
       "      <script>\n",
       "        async function quickchart(key) {\n",
       "          const quickchartButtonEl =\n",
       "            document.querySelector('#' + key + ' button');\n",
       "          quickchartButtonEl.disabled = true;  // To prevent multiple clicks.\n",
       "          quickchartButtonEl.classList.add('colab-df-spinner');\n",
       "          try {\n",
       "            const charts = await google.colab.kernel.invokeFunction(\n",
       "                'suggestCharts', [key], {});\n",
       "          } catch (error) {\n",
       "            console.error('Error during call to suggestCharts:', error);\n",
       "          }\n",
       "          quickchartButtonEl.classList.remove('colab-df-spinner');\n",
       "          quickchartButtonEl.classList.add('colab-df-quickchart-complete');\n",
       "        }\n",
       "        (() => {\n",
       "          let quickchartButtonEl =\n",
       "            document.querySelector('#df-ec51bf96-c059-43e9-99f5-494995703f9d button');\n",
       "          quickchartButtonEl.style.display =\n",
       "            google.colab.kernel.accessAllowed ? 'block' : 'none';\n",
       "        })();\n",
       "      </script>\n",
       "    </div>\n",
       "\n",
       "    </div>\n",
       "  </div>\n"
      ],
      "text/plain": [
       "                 id_str                tweet_created_at user_screen_name  \\\n",
       "0  '793270689780203520'  Tue Nov 01 01:57:25 +0000 2016      SeanEPanjab   \n",
       "1  '793281386912354304'  Tue Nov 01 02:39:55 +0000 2016       AmazonHelp   \n",
       "2  '793501578766319616'  Tue Nov 01 17:14:53 +0000 2016      SeanEPanjab   \n",
       "3  '793501657346682880'  Tue Nov 01 17:15:12 +0000 2016      SeanEPanjab   \n",
       "4  '793502854459879424'  Tue Nov 01 17:19:57 +0000 2016       AmazonHelp   \n",
       "\n",
       "   user_id_str  user_statuses_count  user_favourites_count  user_protected  \\\n",
       "0  143515471.0                51287                   4079           False   \n",
       "1   85741735.0              2225450                  11366           False   \n",
       "2  143515471.0                51287                   4079           False   \n",
       "3  143515471.0                51287                   4079           False   \n",
       "4   85741735.0              2225450                  11366           False   \n",
       "\n",
       "   user_listed_count  user_following  \\\n",
       "0                 74           False   \n",
       "1                796           False   \n",
       "2                 74           False   \n",
       "3                 74           False   \n",
       "4                796           False   \n",
       "\n",
       "                                    user_description  ... tweet_language  \\\n",
       "0  Content marketer; Polyglot; Beard aficionado; ...  ...             en   \n",
       "1  We answer Amazon support questions 7 days a we...  ...             en   \n",
       "2  Content marketer; Polyglot; Beard aficionado; ...  ...             en   \n",
       "3  Content marketer; Polyglot; Beard aficionado; ...  ...             en   \n",
       "4  We answer Amazon support questions 7 days a we...  ...             en   \n",
       "\n",
       "                                               text_  favorite_count  \\\n",
       "0  @AmazonHelp Can you please DM me? A product I ...               0   \n",
       "1  @SeanEPanjab I'm sorry, we're unable to DM you...               0   \n",
       "2  @AmazonHelp It was purchased on https://t.co/g...               0   \n",
       "3  @AmazonHelp I am following you now, if it help...               0   \n",
       "4  @SeanEPanjab Please give us a call/chat so we ...               0   \n",
       "\n",
       "   favorited in_reply_to_screen_name in_reply_to_status_id_str  \\\n",
       "0      False              AmazonHelp                       NaN   \n",
       "1      False             SeanEPanjab              7.932707e+17   \n",
       "2      False              AmazonHelp              7.932814e+17   \n",
       "3      False              AmazonHelp              7.932814e+17   \n",
       "4      False             SeanEPanjab              7.935016e+17   \n",
       "\n",
       "  in_reply_to_user_id_str  retweet_count  retweeted  \\\n",
       "0              85741735.0              0      False   \n",
       "1             143515471.0              0      False   \n",
       "2              85741735.0              0      False   \n",
       "3              85741735.0              0      False   \n",
       "4             143515471.0              0      False   \n",
       "\n",
       "                                                text  \n",
       "0                                                NaN  \n",
       "1                                                NaN  \n",
       "2  @AmazonHelp It was purchased on https://t.co/g...  \n",
       "3                                                NaN  \n",
       "4  @SeanEPanjab Please give us a call/chat so we ...  \n",
       "\n",
       "[5 rows x 25 columns]"
      ]
     },
     "execution_count": 40,
     "metadata": {},
     "output_type": "execute_result"
    }
   ],
   "source": [
    "# Replacing carriage return and new line characters with a space\n",
    "amazon_df = amazon_df.replace({r'\\r\\n': ' '}, regex=True)\n",
    "amazon_df.head()"
   ]
  },
  {
   "cell_type": "code",
   "execution_count": 42,
   "metadata": {
    "colab": {
     "base_uri": "https://localhost:8080/"
    },
    "id": "k97iN09QyvoR",
    "outputId": "2a72049d-0ac6-4e24-b524-0bf0121ba56e"
   },
   "outputs": [
    {
     "name": "stdout",
     "output_type": "stream",
     "text": [
      "+--------------------+------------------------------+----------------+-----------+-------------------+---------------------+--------------+-----------------+--------------+----------------------------------------------------------------------------------------------------------------------------------------------+-------------+-------------+--------------------+------------------+------------------------------+--------------+------------------------------------------------------------------------------------------------------------------------------------------+--------------+---------+-----------------------+-------------------------+-----------------------+-------------+---------+-----------------------------------------------------------------------------------------------------------------------------------------+\n",
      "|id_str              |tweet_created_at              |user_screen_name|user_id_str|user_statuses_count|user_favourites_count|user_protected|user_listed_count|user_following|user_description                                                                                                                              |user_location|user_verified|user_followers_count|user_friends_count|user_created_at               |tweet_language|text_                                                                                                                                     |favorite_count|favorited|in_reply_to_screen_name|in_reply_to_status_id_str|in_reply_to_user_id_str|retweet_count|retweeted|text                                                                                                                                     |\n",
      "+--------------------+------------------------------+----------------+-----------+-------------------+---------------------+--------------+-----------------+--------------+----------------------------------------------------------------------------------------------------------------------------------------------+-------------+-------------+--------------------+------------------+------------------------------+--------------+------------------------------------------------------------------------------------------------------------------------------------------+--------------+---------+-----------------------+-------------------------+-----------------------+-------------+---------+-----------------------------------------------------------------------------------------------------------------------------------------+\n",
      "|'793270689780203520'|Tue Nov 01 01:57:25 +0000 2016|SeanEPanjab     |143515471.0|51287              |4079                 |False         |74               |False         |Content marketer; Polyglot; Beard aficionado; Sikh. Persian, Catalan, French, Spanish. You'll find lol in the interstitial lulls of my tweets.|غریب الوطن   |False        |1503                |850               |Thu May 13 17:43:52 +0000 2010|en            |@AmazonHelp Can you please DM me? A product I ordered last year never arrived.                                                            |0             |False    |AmazonHelp             |nan                      |85741735.0             |0            |False    |nan                                                                                                                                      |\n",
      "|'793281386912354304'|Tue Nov 01 02:39:55 +0000 2016|AmazonHelp      |85741735.0 |2225450            |11366                |False         |796              |False         |We answer Amazon support questions 7 days a week. Support available in English / Deutsch / Español / Português / Français / Italiano / 日本語 |nan          |True         |149569              |53                |Wed Oct 28 04:17:54 +0000 2009|en            |@SeanEPanjab I'm sorry, we're unable to DM you. Was this order purchased on https://t.co/nUUp5MLhYl, or one of our other sites? ^CL       |0             |False    |SeanEPanjab            |7.932706897802035e+17    |143515471.0            |0            |False    |nan                                                                                                                                      |\n",
      "|'793501578766319616'|Tue Nov 01 17:14:53 +0000 2016|SeanEPanjab     |143515471.0|51287              |4079                 |False         |74               |False         |Content marketer; Polyglot; Beard aficionado; Sikh. Persian, Catalan, French, Spanish. You'll find lol in the interstitial lulls of my tweets.|غریب الوطن   |False        |1503                |850               |Thu May 13 17:43:52 +0000 2010|en            |@AmazonHelp It was purchased on https://t.co/gPWnuSkbwC.                                                                                  |0             |False    |AmazonHelp             |7.932813869123543e+17    |85741735.0             |0            |False    |@AmazonHelp It was purchased on https://t.co/gPWnuSkbwC.                                                                                 |\n",
      "|'793501657346682880'|Tue Nov 01 17:15:12 +0000 2016|SeanEPanjab     |143515471.0|51287              |4079                 |False         |74               |False         |Content marketer; Polyglot; Beard aficionado; Sikh. Persian, Catalan, French, Spanish. You'll find lol in the interstitial lulls of my tweets.|غریب الوطن   |False        |1503                |850               |Thu May 13 17:43:52 +0000 2010|en            |@AmazonHelp I am following you now, if it helps to DM.                                                                                    |0             |False    |AmazonHelp             |7.932813869123543e+17    |85741735.0             |0            |False    |nan                                                                                                                                      |\n",
      "|'793502854459879424'|Tue Nov 01 17:19:57 +0000 2016|AmazonHelp      |85741735.0 |2225450            |11366                |False         |796              |False         |We answer Amazon support questions 7 days a week. Support available in English / Deutsch / Español / Português / Français / Italiano / 日本語 |nan          |True         |149569              |53                |Wed Oct 28 04:17:54 +0000 2009|en            |@SeanEPanjab Please give us a call/chat so we can look into this order for you: https://t.co/hApLpMlfHN. ^HB                              |0             |False    |SeanEPanjab            |7.935015787663196e+17    |143515471.0            |0            |False    |@SeanEPanjab Please give us a call/chat so we can look into this order for you: https://t.co/hApLpMlfHN. ^HB                             |\n",
      "|'793504235400884224'|Tue Nov 01 17:25:26 +0000 2016|AmazonHelp      |85741735.0 |2225450            |11366                |False         |796              |False         |We answer Amazon support questions 7 days a week. Support available in English / Deutsch / Español / Português / Français / Italiano / 日本語 |nan          |True         |149569              |53                |Wed Oct 28 04:17:54 +0000 2009|en            |@SeanEPanjab Without providing any sensitive information, do the order details indicate that the item was ever shipped? ^SW               |0             |False    |SeanEPanjab            |7.935016573466829e+17    |143515471.0            |0            |False    |nan                                                                                                                                      |\n",
      "|'793511847899070465'|Tue Nov 01 17:55:41 +0000 2016|SeanEPanjab     |143515471.0|51287              |4079                 |False         |74               |False         |Content marketer; Polyglot; Beard aficionado; Sikh. Persian, Catalan, French, Spanish. You'll find lol in the interstitial lulls of my tweets.|غریب الوطن   |False        |1503                |850               |Thu May 13 17:43:52 +0000 2010|en            |@AmazonHelp It was shipped and possibly delivered to my old place of employment. But when I asked for it, no one had it. And so I wonder +|0             |False    |AmazonHelp             |7.935042354008842e+17    |85741735.0             |0            |False    |nan                                                                                                                                      |\n",
      "|'793511899279208449'|Tue Nov 01 17:55:54 +0000 2016|SeanEPanjab     |143515471.0|51287              |4079                 |False         |74               |False         |Content marketer; Polyglot; Beard aficionado; Sikh. Persian, Catalan, French, Spanish. You'll find lol in the interstitial lulls of my tweets.|غریب الوطن   |False        |1503                |850               |Thu May 13 17:43:52 +0000 2010|en            |@AmazonHelp if it was lost. I have the order #.                                                                                           |0             |False    |AmazonHelp             |7.935042354008842e+17    |85741735.0             |0            |False    |nan                                                                                                                                      |\n",
      "|'793513446633533440'|Tue Nov 01 18:02:03 +0000 2016|AmazonHelp      |85741735.0 |2225450            |11366                |False         |796              |False         |We answer Amazon support questions 7 days a week. Support available in English / Deutsch / Español / Português / Français / Italiano / 日本語 |nan          |True         |149569              |53                |Wed Oct 28 04:17:54 +0000 2009|en            |@SeanEPanjab I'm not able to access account info here. Please reach out by Phone/Chat so we can look at this: https://t.co/EKXRLsnxJu ^GL |0             |False    |SeanEPanjab            |7.935118992792084e+17    |143515471.0            |0            |False    |@SeanEPanjab I'm not able to access account info here. Please reach out by Phone/Chat so we can look at this: https://t.co/EKXRLsnxJu ^GL|\n",
      "|'793299404975247360'|Tue Nov 01 03:51:31 +0000 2016|aakashwangnoo   |71457972.0 |592                |471                  |False         |11               |False         |Don't try to be GOD in your lives...Let HIM work in your lives...and see the magic that he weaves...                                          |New Delhi    |False        |234                 |57                |Fri Sep 04 04:55:01 +0000 2009|en            |@JeffBezos @amazonIN @AmazonHelp Tring...Tring...Tring Who's There? Your Suffering Customers from India Mr. Bezos...Get Up and Help!      |0             |False    |JeffBezos              |nan                      |15506669.0             |0            |False    |nan                                                                                                                                      |\n",
      "+--------------------+------------------------------+----------------+-----------+-------------------+---------------------+--------------+-----------------+--------------+----------------------------------------------------------------------------------------------------------------------------------------------+-------------+-------------+--------------------+------------------+------------------------------+--------------+------------------------------------------------------------------------------------------------------------------------------------------+--------------+---------+-----------------------+-------------------------+-----------------------+-------------+---------+-----------------------------------------------------------------------------------------------------------------------------------------+\n",
      "only showing top 10 rows\n",
      "\n"
     ]
    }
   ],
   "source": [
    "# Converting Pandas Dataframe into Spark Dataframe\n",
    "amazon_df = amazon_df.astype(str) # Converting pandas df to string first\n",
    "amazon_sdf = spark.createDataFrame(amazon_df)\n",
    "amazon_sdf.show(10, False) # False allows us to show entire content of the columns"
   ]
  },
  {
   "cell_type": "code",
   "execution_count": 43,
   "metadata": {
    "colab": {
     "base_uri": "https://localhost:8080/"
    },
    "id": "jP9wgmNVzWYx",
    "outputId": "90d9229b-f018-4dec-eb18-51b71034e3f8"
   },
   "outputs": [
    {
     "data": {
      "text/plain": [
       "['id_str',\n",
       " 'tweet_created_at',\n",
       " 'user_screen_name',\n",
       " 'user_id_str',\n",
       " 'user_statuses_count',\n",
       " 'user_favourites_count',\n",
       " 'user_protected',\n",
       " 'user_listed_count',\n",
       " 'user_following',\n",
       " 'user_description',\n",
       " 'user_location',\n",
       " 'user_verified',\n",
       " 'user_followers_count',\n",
       " 'user_friends_count',\n",
       " 'user_created_at',\n",
       " 'tweet_language',\n",
       " 'text_',\n",
       " 'favorite_count',\n",
       " 'favorited',\n",
       " 'in_reply_to_screen_name',\n",
       " 'in_reply_to_status_id_str',\n",
       " 'in_reply_to_user_id_str',\n",
       " 'retweet_count',\n",
       " 'retweeted',\n",
       " 'text']"
      ]
     },
     "execution_count": 43,
     "metadata": {},
     "output_type": "execute_result"
    }
   ],
   "source": [
    "# Columns in df\n",
    "amazon_sdf.columns"
   ]
  },
  {
   "cell_type": "code",
   "execution_count": 44,
   "metadata": {
    "colab": {
     "base_uri": "https://localhost:8080/"
    },
    "id": "JQ4u0-RVzWpn",
    "outputId": "f949f425-f547-4570-ff48-a967b82dcaf4"
   },
   "outputs": [
    {
     "name": "stdout",
     "output_type": "stream",
     "text": [
      "root\n",
      " |-- id_str: string (nullable = true)\n",
      " |-- tweet_created_at: string (nullable = true)\n",
      " |-- user_screen_name: string (nullable = true)\n",
      " |-- user_id_str: string (nullable = true)\n",
      " |-- user_statuses_count: string (nullable = true)\n",
      " |-- user_favourites_count: string (nullable = true)\n",
      " |-- user_protected: string (nullable = true)\n",
      " |-- user_listed_count: string (nullable = true)\n",
      " |-- user_following: string (nullable = true)\n",
      " |-- user_description: string (nullable = true)\n",
      " |-- user_location: string (nullable = true)\n",
      " |-- user_verified: string (nullable = true)\n",
      " |-- user_followers_count: string (nullable = true)\n",
      " |-- user_friends_count: string (nullable = true)\n",
      " |-- user_created_at: string (nullable = true)\n",
      " |-- tweet_language: string (nullable = true)\n",
      " |-- text_: string (nullable = true)\n",
      " |-- favorite_count: string (nullable = true)\n",
      " |-- favorited: string (nullable = true)\n",
      " |-- in_reply_to_screen_name: string (nullable = true)\n",
      " |-- in_reply_to_status_id_str: string (nullable = true)\n",
      " |-- in_reply_to_user_id_str: string (nullable = true)\n",
      " |-- retweet_count: string (nullable = true)\n",
      " |-- retweeted: string (nullable = true)\n",
      " |-- text: string (nullable = true)\n",
      "\n"
     ]
    }
   ],
   "source": [
    "# Schema: Datatypes associated with columns\n",
    "amazon_sdf.printSchema()"
   ]
  },
  {
   "cell_type": "code",
   "execution_count": 45,
   "metadata": {
    "colab": {
     "base_uri": "https://localhost:8080/"
    },
    "id": "lod7R6d8zWv2",
    "outputId": "731464c4-62b1-423d-ec4e-8ed50acfe756"
   },
   "outputs": [
    {
     "data": {
      "text/plain": [
       "378132"
      ]
     },
     "execution_count": 45,
     "metadata": {},
     "output_type": "execute_result"
    }
   ],
   "source": [
    "# Total number of rows\n",
    "amazon_sdf.count()"
   ]
  },
  {
   "cell_type": "markdown",
   "metadata": {
    "id": "TnUpoHqqzeiG"
   },
   "source": [
    "# Step 2: Extracting the three columns"
   ]
  },
  {
   "cell_type": "code",
   "execution_count": 46,
   "metadata": {
    "colab": {
     "base_uri": "https://localhost:8080/"
    },
    "id": "LCc4N4X-zW02",
    "outputId": "2cf6e057-ddf0-41ed-dbfe-07d7b5e51120"
   },
   "outputs": [
    {
     "name": "stdout",
     "output_type": "stream",
     "text": [
      "+-----------+--------------------+-------------------------------------------------------------------------------------------------------------------------------------------------------------+\n",
      "|user_id_str|user_followers_count|text_                                                                                                                                                        |\n",
      "+-----------+--------------------+-------------------------------------------------------------------------------------------------------------------------------------------------------------+\n",
      "|143515471.0|1503                |@AmazonHelp Can you please DM me? A product I ordered last year never arrived.                                                                               |\n",
      "|85741735.0 |149569              |@SeanEPanjab I'm sorry, we're unable to DM you. Was this order purchased on https://t.co/nUUp5MLhYl, or one of our other sites? ^CL                          |\n",
      "|143515471.0|1503                |@AmazonHelp It was purchased on https://t.co/gPWnuSkbwC.                                                                                                     |\n",
      "|143515471.0|1503                |@AmazonHelp I am following you now, if it helps to DM.                                                                                                       |\n",
      "|85741735.0 |149569              |@SeanEPanjab Please give us a call/chat so we can look into this order for you: https://t.co/hApLpMlfHN. ^HB                                                 |\n",
      "|85741735.0 |149569              |@SeanEPanjab Without providing any sensitive information, do the order details indicate that the item was ever shipped? ^SW                                  |\n",
      "|143515471.0|1503                |@AmazonHelp It was shipped and possibly delivered to my old place of employment. But when I asked for it, no one had it. And so I wonder +                   |\n",
      "|143515471.0|1503                |@AmazonHelp if it was lost. I have the order #.                                                                                                              |\n",
      "|85741735.0 |149569              |@SeanEPanjab I'm not able to access account info here. Please reach out by Phone/Chat so we can look at this: https://t.co/EKXRLsnxJu ^GL                    |\n",
      "|71457972.0 |234                 |@JeffBezos @amazonIN @AmazonHelp Tring...Tring...Tring Who's There? Your Suffering Customers from India Mr. Bezos...Get Up and Help!                         |\n",
      "|85741735.0 |149568              |@aakashwangnoo Hi there, kindly write back to us with the details requested so we can proceed further with this.  ^KJ                                        |\n",
      "|71457972.0 |234                 |@AmazonHelp How many times do you want to write back to you guys??? Check the complaints through email regarding  Order 171-1338898-5999507.                 |\n",
      "|85741735.0 |149568              |@aakashwangnoo Hi! We have responded to you here: https://t.co/v4YVCa3rff ^SG(1/2)                                                                           |\n",
      "|85741735.0 |149568              |@aakashwangnoo Please don’t provide your order details as we consider them to be personal info. Our page is visible to public. ^SG(2/2)                      |\n",
      "|71457972.0 |234                 |@AmazonHelp @amazonIN I am providing my order details as even after providing that ur CC Team is repeatedly shooting me cut copy paste email                 |\n",
      "|85741735.0 |149568              |@aakashwangnoo Hi, I believe we have already got back to you on this. Kindly check for the correspondence here: https://t.co/NTkrxpsbHJ ^AB                  |\n",
      "|71457972.0 |234                 |@AmazonHelp @amazonIN @JeffBezos @consumeraction @ConsumerAffairs @ConsumersUnion You want to silent my voice and call that as Answers to me                 |\n",
      "|71457972.0 |234                 |@AmazonHelp @amazonIN @JeffBezos @consumeraction @ConsumerAffairs @ConsumersUnion SHAME on you Team Amazon India...SHAME SHAME SHAME!!!                      |\n",
      "|71457972.0 |234                 |@AmazonHelp @amazonIN @JeffBezos @consumeraction @ConsumerAffairs @ConsumersUnion Please see attachments. These are Amazon responses. https://t.co/W9FcqQVtCC|\n",
      "|71457972.0 |234                 |@AmazonHelp @amazonIN @JeffBezos @consumeraction @ConsumerAffairs @ConsumersUnion and these are my responses. https://t.co/vTwhtX5oBt                        |\n",
      "+-----------+--------------------+-------------------------------------------------------------------------------------------------------------------------------------------------------------+\n",
      "only showing top 20 rows\n",
      "\n"
     ]
    }
   ],
   "source": [
    "# Extracting columns 'user_id_str', 'user_followers_count', and 'text_'\n",
    "amazon_sub_df = amazon_sdf.select(amazon_sdf.user_id_str, amazon_sdf.user_followers_count.cast('int').alias('user_followers_count'), amazon_sdf.text_)\n",
    "amazon_sub_df.show(20, False)"
   ]
  },
  {
   "cell_type": "code",
   "execution_count": 47,
   "metadata": {
    "colab": {
     "base_uri": "https://localhost:8080/"
    },
    "id": "JcrajVE-zW6C",
    "outputId": "02a32766-b508-4d0c-d461-00b797a1d0f3"
   },
   "outputs": [
    {
     "name": "stdout",
     "output_type": "stream",
     "text": [
      "root\n",
      " |-- user_id_str: string (nullable = true)\n",
      " |-- user_followers_count: integer (nullable = true)\n",
      " |-- text_: string (nullable = true)\n",
      "\n"
     ]
    }
   ],
   "source": [
    "# Checking datatype of columns\n",
    "amazon_sub_df.printSchema()"
   ]
  },
  {
   "cell_type": "code",
   "execution_count": 48,
   "metadata": {
    "colab": {
     "base_uri": "https://localhost:8080/"
    },
    "id": "w_IJQfkGzqPd",
    "outputId": "7bda571c-6bd0-4fb5-a6ad-396f6460239a"
   },
   "outputs": [
    {
     "name": "stdout",
     "output_type": "stream",
     "text": [
      "+---------------------------+\n",
      "|count(DISTINCT user_id_str)|\n",
      "+---------------------------+\n",
      "|                      71533|\n",
      "+---------------------------+\n",
      "\n"
     ]
    }
   ],
   "source": [
    "# Number of distinct users\n",
    "import pyspark.sql.functions as f\n",
    "amazon_sub_df.select(f.countDistinct(\"user_id_str\")).show()"
   ]
  },
  {
   "cell_type": "markdown",
   "metadata": {
    "id": "Fdt89RkFzyX-"
   },
   "source": [
    "# Step 3: Removing the duplicated records"
   ]
  },
  {
   "cell_type": "code",
   "execution_count": 49,
   "metadata": {
    "colab": {
     "base_uri": "https://localhost:8080/"
    },
    "id": "enyLQnMTzyAG",
    "outputId": "46b54e22-e58a-404e-c9e2-48561cb937b8"
   },
   "outputs": [
    {
     "data": {
      "text/plain": [
       "170690"
      ]
     },
     "execution_count": 49,
     "metadata": {},
     "output_type": "execute_result"
    }
   ],
   "source": [
    "# Checking number of rows (tweets) for a particular user\n",
    "amazon_sub_df.filter(amazon_sub_df.user_id_str == '85741735.0').count()"
   ]
  },
  {
   "cell_type": "code",
   "execution_count": 50,
   "metadata": {
    "colab": {
     "base_uri": "https://localhost:8080/"
    },
    "id": "-EE4ExuGzqWo",
    "outputId": "6e80deb1-2b87-4265-937b-b4ee995cb0fa"
   },
   "outputs": [
    {
     "name": "stdout",
     "output_type": "stream",
     "text": [
      "+------------+-----+\n",
      "| user_id_str|  max|\n",
      "+------------+-----+\n",
      "| 182037498.0|   38|\n",
      "|  16669765.0|   57|\n",
      "| 264218502.0|   70|\n",
      "|1873374613.0|  174|\n",
      "|1305569118.0|  128|\n",
      "|3255474476.0|    1|\n",
      "|  29207516.0|  213|\n",
      "| 123058781.0|  380|\n",
      "|1079912580.0|  673|\n",
      "| 277017869.0| 1103|\n",
      "| 553031167.0|  491|\n",
      "|  43597889.0| 1915|\n",
      "|  45659327.0|  338|\n",
      "| 101381642.0|  602|\n",
      "|2811064347.0|11588|\n",
      "|2325986832.0|  141|\n",
      "| 998124780.0|  102|\n",
      "| 220146294.0|  497|\n",
      "|1362528962.0|  567|\n",
      "| 112242731.0|   45|\n",
      "+------------+-----+\n",
      "only showing top 20 rows\n",
      "\n"
     ]
    }
   ],
   "source": [
    "# Removing duplicate records by keeping just the maximum number of followers for any user\n",
    "# Step 1: First let us get the max followers for every user\n",
    "import pyspark.sql.functions as f\n",
    "maxf = amazon_sub_df.groupBy(\"user_id_str\").agg(f.max(\"user_followers_count\").alias(\"max\")).alias(\"maxf\")\n",
    "maxf.show()"
   ]
  },
  {
   "cell_type": "code",
   "execution_count": 51,
   "metadata": {
    "colab": {
     "base_uri": "https://localhost:8080/"
    },
    "id": "kkVXII2pzqcH",
    "outputId": "a43fc1e0-b92e-4168-c68b-9e7b9f25d2bc"
   },
   "outputs": [
    {
     "data": {
      "text/plain": [
       "71533"
      ]
     },
     "execution_count": 51,
     "metadata": {},
     "output_type": "execute_result"
    }
   ],
   "source": [
    "# Total number of rows\n",
    "maxf.count()"
   ]
  },
  {
   "cell_type": "code",
   "execution_count": 52,
   "metadata": {
    "id": "hQ0r-S27zqhu"
   },
   "outputs": [],
   "source": [
    "# Step 2: Let us now join this with the original df (amazon_sub_df) to get all the rows of users which match their max follower count obtained in 'maxf'\n",
    "from pyspark.sql.functions import col\n",
    "amazon_sub_df = amazon_sub_df.alias(\"amazon_sub_df\") # defining alias for original df\n",
    "amazon_sub_df2 = amazon_sub_df.join(maxf, (col(\"user_followers_count\") == col(\"max\")) &\n",
    "                                    (col(\"amazon_sub_df.user_id_str\") == col(\"maxf.user_id_str\"))).select(\n",
    "                                     col(\"amazon_sub_df.user_id_str\"), col(\"amazon_sub_df.user_followers_count\"), col(\"amazon_sub_df.text_\"))"
   ]
  },
  {
   "cell_type": "code",
   "execution_count": 53,
   "metadata": {
    "colab": {
     "base_uri": "https://localhost:8080/"
    },
    "id": "q5PdmnoBzqnA",
    "outputId": "0f1cfe03-bfd0-495b-b707-52f23448127e"
   },
   "outputs": [
    {
     "name": "stdout",
     "output_type": "stream",
     "text": [
      "+------------+--------------------+------------------------------------------------------------------------------------------------------------------------------------------------+\n",
      "|user_id_str |user_followers_count|text_                                                                                                                                           |\n",
      "+------------+--------------------+------------------------------------------------------------------------------------------------------------------------------------------------+\n",
      "|94245683.0  |1085                |Been having issues sleeping lately due to increased anxiety about why the heck my background check isn't finished for Amazon yet.               |\n",
      "|61218672.0  |719                 |@AmazonHelp how can I get an update on an order which has been delayed? My tracking details say it's been delivered &amp;  haven't been updated |\n",
      "|61218672.0  |719                 |@AmazonHelp I received an email to say delivery was delayed so it's not actually dispatched. How can I find out when it'll be with me?          |\n",
      "|61218672.0  |719                 |@AmazonHelp that's the problem. It's not been updated and says expected 31st Oct? Can I give you order no for an update?                        |\n",
      "|142243378.0 |292                 |Whats wrong with @amazonIN https://t.co/wOFnMpkijT                                                                                              |\n",
      "|142243378.0 |292                 |@amazonIN deceiving the innocent customers                                                                                                      |\n",
      "|142243378.0 |292                 |@AmazonHelp the Nikon D5200 was available at @amazonIN for around 33000/-. Why would someone pay 90000/- more than its normal price!            |\n",
      "|142243378.0 |292                 |@AmazonHelp @amazonIN am sorry, it should be nikon d3300                                                                                        |\n",
      "|3295303734.0|44                  |@AmazonHelp Ordered one set of 10k amazon coins since 11 but I still haven't received them nor charged, but on my orders it has duplicated?     |\n",
      "|1146559795.0|456                 |@AmazonUK And I can't see a way to message seller to chase. Who do I need to contact? (2/2)                                                     |\n",
      "|1146559795.0|456                 |@AmazonHelp This is what I've said - there is no way to contact the seller                                                                      |\n",
      "|51824516.0  |210                 |@AmazonHelp I made an order on Prime Now and i’ve got a wrong product, how do I fix it?                                                         |\n",
      "|51824516.0  |210                 |@amazonhelp Thank U!                                                                                                                            |\n",
      "|953947501.0 |73                  |@AmazonHelp You guys need to do something about faster shipping to Pr. I mean 12 days i have to wait 12 days for my game https://t.co/rxwFwLJelv|\n",
      "|953947501.0 |73                  |@AmazonHelp whats the point of having amazon prime if this is my wait time.I mean 1 or 3 days maybe a bit more I dont mind but 12 days?!        |\n",
      "|953947501.0 |73                  |@AmazonHelp I did call 😒 and there was zero help                                                                                               |\n",
      "|953947501.0 |73                  |@AmazonHelp all I am saying is that you guys need to work or try to work better in Puerto Rico                                                  |\n",
      "|953947501.0 |73                  |@AmazonHelp its kinda useless to be paying prime if the shipping takes more than 7 days to arrive                                               |\n",
      "|953947501.0 |73                  |@AmazonHelp nov 9 and when it shipped it says nov 15                                                                                            |\n",
      "|953947501.0 |73                  |@AmazonHelp like download digital?                                                                                                              |\n",
      "+------------+--------------------+------------------------------------------------------------------------------------------------------------------------------------------------+\n",
      "only showing top 20 rows\n",
      "\n"
     ]
    }
   ],
   "source": [
    "amazon_sub_df2.show(20, False)"
   ]
  },
  {
   "cell_type": "code",
   "execution_count": 54,
   "metadata": {
    "colab": {
     "base_uri": "https://localhost:8080/"
    },
    "id": "361PPU-QzqsS",
    "outputId": "d81864d8-7b46-41cb-be0d-6db36d2e0f54"
   },
   "outputs": [
    {
     "data": {
      "text/plain": [
       "194626"
      ]
     },
     "execution_count": 54,
     "metadata": {},
     "output_type": "execute_result"
    }
   ],
   "source": [
    "# Total number of rows\n",
    "amazon_sub_df2.count()"
   ]
  },
  {
   "cell_type": "code",
   "execution_count": 55,
   "metadata": {
    "colab": {
     "base_uri": "https://localhost:8080/"
    },
    "id": "7W6CAB71zqxl",
    "outputId": "def1ad0b-f1cc-424e-88f7-7825e2e1d883"
   },
   "outputs": [
    {
     "data": {
      "text/plain": [
       "13"
      ]
     },
     "execution_count": 55,
     "metadata": {},
     "output_type": "execute_result"
    }
   ],
   "source": [
    "# Checking number of rows (tweets) for that user again\n",
    "amazon_sub_df2.filter(amazon_sub_df2.user_id_str == '85741735.0').count()"
   ]
  },
  {
   "cell_type": "markdown",
   "metadata": {
    "id": "AWDHU4Qx0QeW"
   },
   "source": [
    "# Step 4: Finding popular users"
   ]
  },
  {
   "cell_type": "code",
   "execution_count": 56,
   "metadata": {
    "colab": {
     "base_uri": "https://localhost:8080/"
    },
    "id": "u_ljWY7Jzq22",
    "outputId": "cc116aff-7d9a-47b3-f6b3-af7bf184a044"
   },
   "outputs": [
    {
     "data": {
      "text/plain": [
       "5063"
      ]
     },
     "execution_count": 56,
     "metadata": {},
     "output_type": "execute_result"
    }
   ],
   "source": [
    "# Creating a filter to find popular users who have more than 5000 followers\n",
    "popular_df = amazon_sub_df2.filter(amazon_sub_df2.user_followers_count >= 5000)\n",
    "popular_df.count() # number of rows"
   ]
  },
  {
   "cell_type": "code",
   "execution_count": 57,
   "metadata": {
    "colab": {
     "base_uri": "https://localhost:8080/"
    },
    "id": "E7uqH2TJ0Z7p",
    "outputId": "8498cc5a-c18f-4960-d565-22f48be507f5"
   },
   "outputs": [
    {
     "name": "stdout",
     "output_type": "stream",
     "text": [
      "+------------+--------------------+------------------------------------------------------------------------------------------------------------------------------------------------------+\n",
      "|user_id_str |user_followers_count|text_                                                                                                                                                 |\n",
      "+------------+--------------------+------------------------------------------------------------------------------------------------------------------------------------------------------+\n",
      "|97610175.0  |15738               |@amazonIN Order# 171-7573811-5583505 has not delivered. Almost 25 days gone. How many months do you need more?                                        |\n",
      "|97610175.0  |15738               |@AmazonHelp What I have to fill could you tell me more clearly?                                                                                       |\n",
      "|97610175.0  |15738               |@amazonIN @AmazonHelp I didn't ask for a gift voucher, I asked you to deliver my product ordered. #ShameonyouAmazon                                   |\n",
      "|97610175.0  |15738               |@AmazonHelp Don't regret, try to deliver the product ordered at the earliest. #ShameonyouAmazon                                                       |\n",
      "|3380217501.0|5163                |Looks like my parcel isn't coming today @AmazonHelp 😒 I live 5 mins from a warehouse how can it be late?                                             |\n",
      "|3380217501.0|5163                |@AmazonHelp It says it was dispatched on the 30th and should arrive today, but nothing. When something I ordered after this arrived on Sat            |\n",
      "|236555403.0 |10106               |@AmazonHelp hi I've had money go out of my account and says it's for amazon prime which I have never signed up for???                                 |\n",
      "|236555403.0 |10106               |@AmazonHelp it says I can end it but not cancel will this work?                                                                                       |\n",
      "|474221855.0 |15847               |Is it true that @amazon no longer sends out City/State info to those who purchase items off wish lists? 🤔 I've bee told it's a new feature?!         |\n",
      "|426206983.0 |55003               |@AmazonHelp Anyone/anywhere online I can get an update on a parcel paid to be delivered today?                                                        |\n",
      "|450442747.0 |6689                |I ordered a book on @amazonIN and this particular poster was used as a packing material for the book . @stc_india https://t.co/DlDaSmgCht             |\n",
      "|450442747.0 |6689                |@AmazonHelp sadly I can't leave a feedback for the packaging as it was send by third party seller on Amazon .                                         |\n",
      "|479445356.0 |80843               |@AmazonHelp you have failed to collect 2 sets of phones and a duvet putting me under strain for over 2 weeks now , get them collected tomoz           |\n",
      "|479445356.0 |80843               |@AmazonHelp no because it won't work from #ipad and I'm getting good very very #angry so get it sorted ty and have a nice day.                        |\n",
      "|20010752.0  |10385               |@amazon can #Alexa call for emergency care / 911?                                                                                                     |\n",
      "|20010752.0  |10385               |Called and excellent #CustServ @AmazonHelp re: your team is working on emergency capabilities for #Alexa                                              |\n",
      "|450442747.0 |6689                |@amazonIN thanks for delivering this beauty well in time . Hats off to @GoalSquadShop for making it available in India . #COYG https://t.co/6xQheDF1vy|\n",
      "|450442747.0 |6689                |@AmazonHelp you guys made my day . Oh yes definitely coffee in that tomorrow on Matchday . I will share that coffee with you guys .                   |\n",
      "|16008072.0  |9114                |@amazonprimenow how do I get a refund for grocery items that didn't arrive with my delivery?                                                          |\n",
      "|16008072.0  |9114                |@AmazonHelp thanks, I submitted an inquiry via Contact Us in the app                                                                                  |\n",
      "+------------+--------------------+------------------------------------------------------------------------------------------------------------------------------------------------------+\n",
      "only showing top 20 rows\n",
      "\n"
     ]
    }
   ],
   "source": [
    "popular_df.show(20, False)"
   ]
  },
  {
   "cell_type": "code",
   "execution_count": 58,
   "metadata": {
    "colab": {
     "base_uri": "https://localhost:8080/"
    },
    "id": "lTQID8sg0dCq",
    "outputId": "5f7be347-d2c7-4429-b2ac-57c1da80d1a2"
   },
   "outputs": [
    {
     "name": "stdout",
     "output_type": "stream",
     "text": [
      "+---------------------+--------------------+-----------------------------------------------------------------------------------------------------------------------------------------------+\n",
      "|user_id_str          |user_followers_count|text_                                                                                                                                          |\n",
      "+---------------------+--------------------+-----------------------------------------------------------------------------------------------------------------------------------------------+\n",
      "|26359772.0           |5003                |@AmazonHelp any chance you can tell me what time American Gods is going online on May 1st?                                                     |\n",
      "|213353996.0          |5007                |@AmazonHelp Had two shipments marked as \"delivered\" yesterday that never appeared. Still marked as delivered and I have 0/6 items.             |\n",
      "|213353996.0          |5007                |@AmazonHelp Last delivery I ordered was marked as \"handed to resident\" when it was really dropped over fence in rain. https://t.co/8bJgpAiU1m  |\n",
      "|314686291.0          |5008                |Thanks to @AmazonHelp I’m now uploading my entire photo collection (nearly 2 decades worth!) Safe, cheap and peace of mind storage) Thanks!    |\n",
      "|258867194.0          |5010                |S/O to @Amazon for the Deluxe Edition of #MassEffectAndromeda for the LOW #AmazonPrime https://t.co/SL7MaqgNgn                                 |\n",
      "|72697263.0           |5010                |@amazon screwed friend.  Charged a year later after cancelled free trial. #badservice #screwed                                                 |\n",
      "|50457828.0           |5010                |I didn't even realize that I NEEDED a 6 pack of @DuncanToys yo-yos until I saw it. Thanks, @amazon 👍🏻 https://t.co/6M5oSAiKHm                |\n",
      "|72697263.0           |5010                |@AmazonHelp she did but now her bank account is overdraft and fees will be charged to her                                                      |\n",
      "|50457828.0           |5010                |.@DuncanToys @amazon It's already paying off. Nice @IntuitAccts appearance too https://t.co/yn9Smecv0R                                         |\n",
      "|17371268.0           |5012                |@AmazonHelp Hi, I am trying to return something but when I click the box I can't continue https://t.co/qjS2lkHqbt                              |\n",
      "|215375629.0          |5015                |@AmazonHelp Thanks, I've already raised an exchange request so replacement on its way out tomorrow 👍🏻👍🏻                                    |\n",
      "|215375629.0          |5015                |This is what happens when #Hermes chucks the @AmazonUK parcel over the garden gate! #smashedplates https://t.co/MQtvXJSPEn                     |\n",
      "|8.178757312753459e+17|5023                |@AmazonHelp Worst off, I have two chats confirming items were received!                                                                        |\n",
      "|8.178757312753459e+17|5023                |@AmazonHelp They claimed a case was opened, but I'm not sure if it was. The representative was so rude and accusatory I don't trust him at all.|\n",
      "|543581602.0          |5024                |@AmazonHelp Does this mean in order to watch a movie off Amazon Prime Video, I need to watch the movie on my Kindle Fire?                      |\n",
      "|20717001.0           |5024                |@AmazonHelp I turned on the reminder to remind me about being charged for prime, nothing. I did get charged for prime though... :(             |\n",
      "|20717001.0           |5024                |@AmazonHelp And receive a refund? I tried to cancel last month and was given another \"30 days free\". Then charged a year's fee 🙄              |\n",
      "|116509330.0          |5025                |@AmazonHelp my same day/one day package was supposed to arrive today but so far is not here 😔 https://t.co/SgH44pO0nn                         |\n",
      "|116509330.0          |5025                |@AmazonHelp No, usually if it's Intelcom I know there will be an issue https://t.co/vNkXFg0T2m                                                 |\n",
      "|116509330.0          |5025                |@AmazonHelp Well it's already midnight so I guess I have to wait till tomorrow                                                                 |\n",
      "+---------------------+--------------------+-----------------------------------------------------------------------------------------------------------------------------------------------+\n",
      "only showing top 20 rows\n",
      "\n"
     ]
    }
   ],
   "source": [
    "# Check: Sorting follower count Ascending\n",
    "popular_df.sort(popular_df.user_followers_count).show(20, False)"
   ]
  },
  {
   "cell_type": "code",
   "execution_count": 59,
   "metadata": {
    "colab": {
     "base_uri": "https://localhost:8080/"
    },
    "id": "j0rfWGu90ldS",
    "outputId": "2e680d5b-d723-4d23-b91a-2c9ac86b1d25"
   },
   "outputs": [
    {
     "name": "stdout",
     "output_type": "stream",
     "text": [
      "+------------+--------------------+----------------------------------------------------------------------------------------------------------------------------------------------------------+\n",
      "|user_id_str |user_followers_count|text_                                                                                                                                                     |\n",
      "+------------+--------------------+----------------------------------------------------------------------------------------------------------------------------------------------------------+\n",
      "|20793816.0  |2776204             |@Liberal_Lisa You're all set. We'll remind you when #PrimeDay is here! https://t.co/kQdsFAczL6                                                            |\n",
      "|83554234.0  |1958810             |@AmazonHelp Thank you. message sent                                                                                                                       |\n",
      "|83554234.0  |1958810             |@AmazonHelp Can you help?                                                                                                                                 |\n",
      "|83554234.0  |1958810             |@AmazonHelp driver marked as delivered but never delivered. customer service refuses to help.                                                             |\n",
      "|83554234.0  |1958810             |@AmazonHelp Up till this point I've received various poor excuses! It couldn't be simpler and amazon are doing there best to complicate things            |\n",
      "|83554234.0  |1958810             |@AmazonHelp Basically there are 4 orders (7 items) and marked as delivered but I can prove via our cctv that wasn't and the customer service won't help   |\n",
      "|83554234.0  |1958810             |@AmazonHelp Over 1k properties in this block, where should I start? 4 orders/ 7 items to be delivered YESTERDAY to me and still... https://t.co/CdIavyHYD0|\n",
      "|83554234.0  |1958810             |@AmazonHelp Still not resolved...                                                                                                                         |\n",
      "|83554234.0  |1958810             |@AmazonHelp Hi thank you for all! I called your team earlier and this time I had a lovely gentleman who sorted all. In love with my amazon again!         |\n",
      "|209004862.0 |1687854             |Love writing? Learn more about The Kindle UK Storyteller Award and the chance to win £20,000: https://t.co/EnlAgaaal2 #Storyteller2017                    |\n",
      "|26136956.0  |1554140             |@AmazonHelp could you please dm me, thanks.                                                                                                               |\n",
      "|151739682.0 |1379453             |@cevalogistics I ordered a desk off @amazon over a month ago. Delivery expected Jan 4th. I emailed u Jan 5, no reply. WHERE IS MY SHIPMENT?!              |\n",
      "|1282946089.0|1122296             |@cosanostrakosa It is finally here... Grab your own #OnePlus5, exclusively on Amazon, right here… https://t.co/SlIeWvqUPC                                 |\n",
      "|15640646.0  |964710              |Can anyone tell me why @AmazonHelp can't straighten out a simple problem with a gift card? #amazon #amazongiftcard #customerservice                       |\n",
      "|15640646.0  |964710              |@AmazonHelp My daughter bought me a $50 gift card. I'm still waiting for the email from Amazon. She and I have both contacted support. No resolution 1/2  |\n",
      "|15640646.0  |964710              |@AmazonHelp no resolution yet. She bought it last night about 7pm EDT. I'd like to get my gift card. BTW, my email is jandrewnelson2@gmail.com 2/2        |\n",
      "|15640646.0  |964710              |@AmazonHelp I have a transcription of my chat this morning with the help desk if that would be helpful in getting this matter corrected.                  |\n",
      "|15640646.0  |964710              |@AmazonHelp Anything you can do to help?                                                                                                                  |\n",
      "|15640646.0  |964710              |@AmazonHelp Any word on this?                                                                                                                             |\n",
      "|15640646.0  |964710              |@AmazonHelp Any progress on resolving this?                                                                                                               |\n",
      "+------------+--------------------+----------------------------------------------------------------------------------------------------------------------------------------------------------+\n",
      "only showing top 20 rows\n",
      "\n"
     ]
    }
   ],
   "source": [
    "# Check: Sorting follower count Descending\n",
    "popular_df.sort((popular_df.user_followers_count).desc()).show(20, False)"
   ]
  },
  {
   "cell_type": "code",
   "execution_count": 60,
   "metadata": {
    "colab": {
     "base_uri": "https://localhost:8080/"
    },
    "id": "zG-YH7SI0sXv",
    "outputId": "c8997e7e-1854-4228-c396-d1b8720a9932"
   },
   "outputs": [
    {
     "data": {
      "text/plain": [
       "2130"
      ]
     },
     "execution_count": 60,
     "metadata": {},
     "output_type": "execute_result"
    }
   ],
   "source": [
    "# Number of distinct users\n",
    "popular_df.select('user_id_str').distinct().count()"
   ]
  },
  {
   "cell_type": "code",
   "execution_count": 61,
   "metadata": {
    "id": "O9cvSj5I0yps"
   },
   "outputs": [],
   "source": [
    "# Finding number of tweets per user using groupBy\n",
    "groupedUsers = popular_df.groupby('user_id_str').count().withColumnRenamed(\"count\",\"tweet_count\")"
   ]
  },
  {
   "cell_type": "code",
   "execution_count": 62,
   "metadata": {
    "colab": {
     "base_uri": "https://localhost:8080/"
    },
    "id": "Hdr-ouxD0056",
    "outputId": "c5eec6b4-17d6-4c35-cf08-f59cf02a9dc5"
   },
   "outputs": [
    {
     "name": "stdout",
     "output_type": "stream",
     "text": [
      "+------------+-----------+\n",
      "| user_id_str|tweet_count|\n",
      "+------------+-----------+\n",
      "|  17535421.0|         23|\n",
      "|2454614098.0|         20|\n",
      "|  16789906.0|         18|\n",
      "|2950894703.0|         18|\n",
      "| 518389533.0|         17|\n",
      "| 568744096.0|         15|\n",
      "| 153426866.0|         14|\n",
      "|  22486545.0|         14|\n",
      "|  17225620.0|         14|\n",
      "|  85741735.0|         13|\n",
      "|   2551781.0|         13|\n",
      "|  27326436.0|         12|\n",
      "|  15658980.0|         11|\n",
      "|  60964525.0|         11|\n",
      "|  17742722.0|         11|\n",
      "|  31697976.0|         11|\n",
      "| 313202447.0|         11|\n",
      "|  14247313.0|         11|\n",
      "|  74177248.0|         11|\n",
      "| 274852927.0|         11|\n",
      "+------------+-----------+\n",
      "only showing top 20 rows\n",
      "\n"
     ]
    }
   ],
   "source": [
    "# Sorting in descending order of count\n",
    "groupedUsers.sort((groupedUsers.tweet_count).desc()).show(20)"
   ]
  },
  {
   "cell_type": "markdown",
   "metadata": {
    "id": "Gbhdl92o03RP"
   },
   "source": [
    "# Step 5: Finding top words and save the results"
   ]
  },
  {
   "cell_type": "code",
   "execution_count": 63,
   "metadata": {
    "colab": {
     "base_uri": "https://localhost:8080/"
    },
    "id": "PU_wkvsh0543",
    "outputId": "6cc4cd4c-b47e-405f-ee77-25876f236205"
   },
   "outputs": [
    {
     "data": {
      "text/plain": [
       "['@amazonIN Order# 171-7573811-5583505 has not delivered. Almost 25 days gone. How many months do you need more?',\n",
       " '@AmazonHelp What I have to fill could you tell me more clearly?',\n",
       " \"@amazonIN @AmazonHelp I didn't ask for a gift voucher, I asked you to deliver my product ordered. #ShameonyouAmazon\",\n",
       " \"@AmazonHelp Don't regret, try to deliver the product ordered at the earliest. #ShameonyouAmazon\",\n",
       " \"Looks like my parcel isn't coming today @AmazonHelp 😒 I live 5 mins from a warehouse how can it be late?\"]"
      ]
     },
     "execution_count": 63,
     "metadata": {},
     "output_type": "execute_result"
    }
   ],
   "source": [
    "# Counting words frequency of the tweets posted by the popular users from step 4\n",
    "# Reading column 'text_' from spark df (popular_df) to a python list, which will then be read into RDD object\n",
    "tweet = popular_df.select(\"text_\").rdd.flatMap(lambda x: x).collect()\n",
    "tweet[0:5]"
   ]
  },
  {
   "cell_type": "code",
   "execution_count": 64,
   "metadata": {
    "id": "k3G7_uU208MO"
   },
   "outputs": [],
   "source": [
    "# Creating Spark Context\n",
    "from pyspark import SparkContext\n",
    "sc = SparkContext.getOrCreate()"
   ]
  },
  {
   "cell_type": "code",
   "execution_count": 65,
   "metadata": {
    "colab": {
     "base_uri": "https://localhost:8080/"
    },
    "id": "t2ZCs0BQ1Dws",
    "outputId": "0d980a63-0111-4534-cdea-8fc48129ae0e"
   },
   "outputs": [
    {
     "data": {
      "text/plain": [
       "['@amazonIN Order# 171-7573811-5583505 has not delivered. Almost 25 days gone. How many months do you need more?',\n",
       " '@AmazonHelp What I have to fill could you tell me more clearly?',\n",
       " \"@amazonIN @AmazonHelp I didn't ask for a gift voucher, I asked you to deliver my product ordered. #ShameonyouAmazon\",\n",
       " \"@AmazonHelp Don't regret, try to deliver the product ordered at the earliest. #ShameonyouAmazon\",\n",
       " \"Looks like my parcel isn't coming today @AmazonHelp 😒 I live 5 mins from a warehouse how can it be late?\"]"
      ]
     },
     "execution_count": 65,
     "metadata": {},
     "output_type": "execute_result"
    }
   ],
   "source": [
    "# Reading 'tweet' to a RDD object using spark context\n",
    "tweet_rdd = sc.parallelize(tweet)\n",
    "tweet_rdd.take(5)"
   ]
  },
  {
   "cell_type": "code",
   "execution_count": 66,
   "metadata": {
    "id": "-QBiqFum1EwD"
   },
   "outputs": [],
   "source": [
    "# Function for cleaning the text of tweets\n",
    "import string\n",
    "import re\n",
    "\n",
    "def clean_tweet(x):\n",
    "\n",
    "  # Delete all the URLs in the tweets\n",
    "  text00 = re.sub(r'www\\S+', '', x)\n",
    "  text01 = re.sub(r'http\\S+', '', text00)\n",
    "\n",
    "  # Delete all the numbers in the tweets\n",
    "  text1 = ''.join([i for i in text01 if not i.isdigit()])\n",
    "\n",
    "  # Delete all the punctuation marks in the tweets\n",
    "  text2 = text1.translate(str.maketrans('','',string.punctuation))\n",
    "\n",
    "  # Convert text to LOWERCASE\n",
    "  text3 = text2.lower()\n",
    "\n",
    "  return text3"
   ]
  },
  {
   "cell_type": "code",
   "execution_count": 67,
   "metadata": {
    "colab": {
     "base_uri": "https://localhost:8080/"
    },
    "id": "exjl-vh21IGk",
    "outputId": "dc91a1a5-a794-460e-9b9c-6c13428a570b"
   },
   "outputs": [
    {
     "data": {
      "text/plain": [
       "['amazonin order  has not delivered almost  days gone how many months do you need more',\n",
       " 'amazonhelp what i have to fill could you tell me more clearly',\n",
       " 'amazonin amazonhelp i didnt ask for a gift voucher i asked you to deliver my product ordered shameonyouamazon',\n",
       " 'amazonhelp dont regret try to deliver the product ordered at the earliest shameonyouamazon',\n",
       " 'looks like my parcel isnt coming today amazonhelp 😒 i live  mins from a warehouse how can it be late',\n",
       " 'amazonhelp it says it was dispatched on the th and should arrive today but nothing when something i ordered after this arrived on sat',\n",
       " 'amazonhelp hi ive had money go out of my account and says its for amazon prime which i have never signed up for',\n",
       " 'amazonhelp it says i can end it but not cancel will this work',\n",
       " 'is it true that amazon no longer sends out citystate info to those who purchase items off wish lists 🤔 ive bee told its a new feature',\n",
       " 'amazonhelp anyoneanywhere online i can get an update on a parcel paid to be delivered today']"
      ]
     },
     "execution_count": 67,
     "metadata": {},
     "output_type": "execute_result"
    }
   ],
   "source": [
    "# Cleaning the text of tweets: 1. Removing URLs, 2. Removing non-alphabets, 3. Lowercase\n",
    "clean_tweet_rdd = tweet_rdd.map(clean_tweet)\n",
    "clean_tweet_rdd.take(10)"
   ]
  },
  {
   "cell_type": "code",
   "execution_count": 68,
   "metadata": {
    "colab": {
     "base_uri": "https://localhost:8080/"
    },
    "id": "LEgV20oR1Lgq",
    "outputId": "844dbcea-dac2-4d29-cab4-0615559e3f63"
   },
   "outputs": [
    {
     "data": {
      "text/plain": [
       "[('amazonin', 1), ('order', 1), ('', 1), ('has', 1), ('not', 1)]"
      ]
     },
     "execution_count": 68,
     "metadata": {},
     "output_type": "execute_result"
    }
   ],
   "source": [
    "# Building Map function\n",
    "map = clean_tweet_rdd.flatMap(lambda line: line.split(\" \")).map(lambda word: (word, 1))\n",
    "map.take(5)"
   ]
  },
  {
   "cell_type": "code",
   "execution_count": 69,
   "metadata": {
    "colab": {
     "base_uri": "https://localhost:8080/"
    },
    "id": "6MnfA3Px1ODi",
    "outputId": "8c7fdf5b-6a27-4f4a-c471-fe41fa839bba"
   },
   "outputs": [
    {
     "data": {
      "text/plain": [
       "[('', 3239), ('almost', 29), ('days', 179), ('how', 244), ('months', 42)]"
      ]
     },
     "execution_count": 69,
     "metadata": {},
     "output_type": "execute_result"
    }
   ],
   "source": [
    "# Building Reduce function\n",
    "counts = map.reduceByKey(lambda a, b: a + b)\n",
    "counts.take(5)"
   ]
  },
  {
   "cell_type": "code",
   "execution_count": 70,
   "metadata": {
    "colab": {
     "base_uri": "https://localhost:8080/"
    },
    "id": "8r1pEnXY1RYP",
    "outputId": "eb1c16d3-4e9d-4693-f9ab-f43b8e56fca9"
   },
   "outputs": [
    {
     "name": "stdout",
     "output_type": "stream",
     "text": [
      "6855\n"
     ]
    }
   ],
   "source": [
    "# Total number of distinct words\n",
    "print(len(counts.collect()))"
   ]
  },
  {
   "cell_type": "code",
   "execution_count": 71,
   "metadata": {
    "colab": {
     "base_uri": "https://localhost:8080/"
    },
    "id": "M0gXrSOa1USw",
    "outputId": "51fdf43d-ef92-4627-d6c0-83a1bdf4bf64"
   },
   "outputs": [
    {
     "data": {
      "text/plain": [
       "[('amazonhelp', 3647),\n",
       " ('i', 2896),\n",
       " ('to', 2491),\n",
       " ('the', 2356),\n",
       " ('a', 1616),\n",
       " ('it', 1551),\n",
       " ('my', 1482),\n",
       " ('amazon', 1434),\n",
       " ('and', 1379),\n",
       " ('you', 1185)]"
      ]
     },
     "execution_count": 71,
     "metadata": {},
     "output_type": "execute_result"
    }
   ],
   "source": [
    "# Getting the Top 10 most popular words and their words frequency\n",
    "# Sorting 'counts' in descending order and getting the first 10 elements\n",
    "countsSortedTopTen = counts.takeOrdered(10, lambda a: -a[1] if len(a[0]) > 0 else False) # Conditioned on that number of characters in the string should be at least 1\n",
    "countsSortedTopTen"
   ]
  },
  {
   "cell_type": "code",
   "execution_count": 72,
   "metadata": {
    "id": "KkkZbHPr1XAY"
   },
   "outputs": [],
   "source": [
    "# Writing list to a text file\n",
    "with open(\"/content/drive/MyDrive/Colab_Notebooks/BDA/2277_tanmay.txt\", 'w') as f:\n",
    "    for item in countsSortedTopTen:\n",
    "        f.write(item[0] + ', ' + str(item[1]) + '\\n')"
   ]
  }
 ],
 "metadata": {
  "colab": {
   "collapsed_sections": [
    "Fdt89RkFzyX-",
    "AWDHU4Qx0QeW",
    "Gbhdl92o03RP"
   ],
   "provenance": []
  },
  "kernelspec": {
   "display_name": "Python 3 (ipykernel)",
   "language": "python",
   "name": "python3"
  },
  "language_info": {
   "codemirror_mode": {
    "name": "ipython",
    "version": 3
   },
   "file_extension": ".py",
   "mimetype": "text/x-python",
   "name": "python",
   "nbconvert_exporter": "python",
   "pygments_lexer": "ipython3",
   "version": "3.13.1"
  }
 },
 "nbformat": 4,
 "nbformat_minor": 4
}
